{
 "cells": [
  {
   "cell_type": "code",
   "execution_count": 49,
   "metadata": {},
   "outputs": [],
   "source": [
    "import pandas as pd\n",
    "from IPython.display import display\n",
    "import seaborn as sns\n",
    "from matplotlib import pyplot as plt\n",
    "import nltk\n",
    "import re\n",
    "from os import path\n",
    "from unicodedata import normalize\n",
    "from sklearn.feature_extraction.text import CountVectorizer\n",
    "from sklearn.model_selection import train_test_split\n",
    "from sklearn.pipeline import Pipeline\n",
    "from sklearn.multiclass import OneVsRestClassifier\n",
    "from sklearn.linear_model import LogisticRegression\n",
    "%matplotlib inline"
   ]
  },
  {
   "cell_type": "markdown",
   "metadata": {},
   "source": [
    " "
   ]
  },
  {
   "cell_type": "markdown",
   "metadata": {},
   "source": [
    "As técnicas utilizadas no protótipo do Dashboard de análise de gastos relacionados ao ODS 11 utiliza técnicas de processamento de linguagem natural, porém em nível muito básico. O principal obstáculo para essa prática é a aplicação de aprendizado supervisionado, já que não temos uma classificação pronta para cada ODS. No entanto, podemos tentar melhorar esse algoritmo utilizando as categorias criadas a partir das listas de palavras do dashboard, e a partir delas criar um aprendizado para analisar novos dados de maneira mais profunda com NLP."
   ]
  },
  {
   "cell_type": "markdown",
   "metadata": {},
   "source": [
    "Exemplificaremos esse processo com uma cidade, Campinas. O modelo criado poderá ser utilizado para novos dados gerados dinâmicamente, como por exemplo, dados provenientes de APIs, podendo classificá-los como relacionados ao ODS ou não."
   ]
  },
  {
   "cell_type": "code",
   "execution_count": 22,
   "metadata": {},
   "outputs": [],
   "source": [
    "df_csv = pd.read_csv(f'../data/despesas/by_city/despesas-2019-campinas.csv', sep=\",\")"
   ]
  },
  {
   "cell_type": "code",
   "execution_count": 23,
   "metadata": {},
   "outputs": [],
   "source": [
    "df_csv['vl_despesa'] = df_csv['vl_despesa'].apply(lambda x: float(x.replace(\",\", \".\"))).astype(float)"
   ]
  },
  {
   "cell_type": "code",
   "execution_count": 24,
   "metadata": {},
   "outputs": [
    {
     "data": {
      "text/plain": [
       "101196"
      ]
     },
     "execution_count": 24,
     "metadata": {},
     "output_type": "execute_result"
    }
   ],
   "source": [
    "len(df_csv)"
   ]
  },
  {
   "cell_type": "code",
   "execution_count": 25,
   "metadata": {},
   "outputs": [],
   "source": [
    "df = df_csv.copy()\n",
    "df['historico_despesa'] = df['historico_despesa'].apply(lambda x: re.sub(r'\\W+', ' ', x))\n",
    "df['historico_despesa'] = df['historico_despesa'].apply(lambda x: re.sub(r'^[a-zA-Z]+$', ' ', x))\n",
    "txt = df.historico_despesa.str.lower().str.cat(sep=' ')\n",
    "words = nltk.tokenize.word_tokenize(txt)\n",
    "word_dist = nltk.FreqDist(words)\n",
    "stopwords = nltk.corpus.stopwords.words('portuguese')\n",
    "words_except_stop_dist = nltk.FreqDist(w for w in words if w not in stopwords) \n",
    "rslt = pd.DataFrame(words_except_stop_dist.most_common(101196),\n",
    "                    columns=['Word', 'Frequency'])\n",
    "rslt = rslt[rslt.Word.str.isalpha()]"
   ]
  },
  {
   "cell_type": "code",
   "execution_count": 26,
   "metadata": {},
   "outputs": [
    {
     "data": {
      "text/html": [
       "<div>\n",
       "<style scoped>\n",
       "    .dataframe tbody tr th:only-of-type {\n",
       "        vertical-align: middle;\n",
       "    }\n",
       "\n",
       "    .dataframe tbody tr th {\n",
       "        vertical-align: top;\n",
       "    }\n",
       "\n",
       "    .dataframe thead th {\n",
       "        text-align: right;\n",
       "    }\n",
       "</style>\n",
       "<table border=\"1\" class=\"dataframe\">\n",
       "  <thead>\n",
       "    <tr style=\"text-align: right;\">\n",
       "      <th></th>\n",
       "      <th>Word</th>\n",
       "      <th>Frequency</th>\n",
       "    </tr>\n",
       "  </thead>\n",
       "  <tbody>\n",
       "    <tr>\n",
       "      <th>2</th>\n",
       "      <td>nº</td>\n",
       "      <td>21498</td>\n",
       "    </tr>\n",
       "    <tr>\n",
       "      <th>3</th>\n",
       "      <td>prot</td>\n",
       "      <td>20631</td>\n",
       "    </tr>\n",
       "    <tr>\n",
       "      <th>5</th>\n",
       "      <td>empenho</td>\n",
       "      <td>18769</td>\n",
       "    </tr>\n",
       "    <tr>\n",
       "      <th>6</th>\n",
       "      <td>pmc</td>\n",
       "      <td>16227</td>\n",
       "    </tr>\n",
       "    <tr>\n",
       "      <th>7</th>\n",
       "      <td>pagamento</td>\n",
       "      <td>15047</td>\n",
       "    </tr>\n",
       "  </tbody>\n",
       "</table>\n",
       "</div>"
      ],
      "text/plain": [
       "        Word  Frequency\n",
       "2         nº      21498\n",
       "3       prot      20631\n",
       "5    empenho      18769\n",
       "6        pmc      16227\n",
       "7  pagamento      15047"
      ]
     },
     "execution_count": 26,
     "metadata": {},
     "output_type": "execute_result"
    }
   ],
   "source": [
    "rslt.head()"
   ]
  },
  {
   "cell_type": "markdown",
   "metadata": {},
   "source": [
    "Classificaremos se a despesa está relacionada ao ODS ou não."
   ]
  },
  {
   "cell_type": "code",
   "execution_count": 27,
   "metadata": {},
   "outputs": [],
   "source": [
    "ods_11_1 = [\n",
    "    \"habitação\",\n",
    "    \"habitacao\",\n",
    "    \"habitacional\",\n",
    "    \"favelas\",\n",
    "    \"urbano\",\n",
    "    \"urbanização\",\n",
    "    \"urbanismo\",\n",
    "    \"urbanizacao\",\n",
    "    \"favela\",\n",
    "    \"básicos\",\n",
    "]\n",
    "ods_11_2 = [\n",
    "    \"transporte\",\n",
    "    \"metrô\",\n",
    "    \"metro\",\n",
    "    \"onibus\",\n",
    "    \"ônibus\",\n",
    "    \"trem\",\n",
    "    \"vlt\",\n",
    "    \"monotrilho\",\n",
    "    \"bonde\",\n",
    "    \"frota\",\n",
    "    \"trens\",\n",
    "    \"transportes\",\n",
    "]\n",
    "ods_11_3 = [\n",
    "    \"sustentável\",\n",
    "    \"sustentavel\",\n",
    "    \"sustentabilidade\",\n",
    "    \"participativo\",\n",
    "    \"participativa\",\n",
    "    \"assentamentos\",\n",
    "]\n",
    "ods_11_4 = [\n",
    "    \"partimônio\",\n",
    "    \"cultura\",\n",
    "    \"restauração\",\n",
    "    \"patrimonio\",\n",
    "    \"restauracao\",\n",
    "    \"reserva\",\n",
    "    \"natural\",\n",
    "    \"natureza\",\n",
    "    \"cultural\",\n",
    "    \"patrimonial\",\n",
    "    \"meio-ambiente\",\n",
    "]\n",
    "ods_11_5 = [\n",
    "    \"mortalidade\",\n",
    "    \"catástrofe\",\n",
    "    \"catastrofe\",\n",
    "    \"catástrofes\",\n",
    "    \"catastrofes\",\n",
    "    \"acidente\",\n",
    "    \"acidentes\",\n",
    "    \"enchentes\",\n",
    "    \"enchente\",\n",
    "    \"deslizamento\",\n",
    "    \"desastre\",\n",
    "    \"desastres\",\n",
    "    \"chuva\",\n",
    "    \"chuvas\",\n",
    "    \"barragem\",\n",
    "    \"contaminação\",\n",
    "    \"despoluição\",\n",
    "    \"contaminacao\",\n",
    "    \"despoulicao\",\n",
    "    \"contaminado\",\n",
    "    \"contaminada\",\n",
    "]\n",
    "ods_11_6 = [\n",
    "    \"ar\",\n",
    "    \"poluição\",\n",
    "    \"resíduos\",\n",
    "    \"poluicao\",\n",
    "    \"residuos\",\n",
    "    \"esgoto\",\n",
    "    \"esgotos\",\n",
    "    \"saneamento\",\n",
    "    \"coleta\",\n",
    "    \"lixo\",\n",
    "    \"lixão\",\n",
    "    \"lixao\",\n",
    "    \"lixoes\",\n",
    "    \"lixões\",\n",
    "    \"aterro\",\n",
    "    \"aterros\",\n",
    "    \"reciclagem\",\n",
    "    \"reciclado\",\n",
    "    \"recicla\",\n",
    "    \"descarte\",\n",
    "]\n",
    "ods_11_7 = [\n",
    "    \"espaço\",\n",
    "    \"espaco\",\n",
    "    \"acessível\",\n",
    "    \"acessibilidade\",\n",
    "    \"convivência\",\n",
    "    \"convivencia\",\n",
    "    \"conviver\",\n",
    "    \"acessivel\",\n",
    "    \"cadeirante\",\n",
    "    \"cego\",\n",
    "    \"deficiente\",\n",
    "    \"deficientes\",\n",
    "    \"deficiencia\",\n",
    "    \"deficiência\",\n",
    "    \"idoso\",\n",
    "    \"idosos\",\n",
    "    \"idosa\",\n",
    "    \"mulher\",\n",
    "    \"mulheres\",\n",
    "    \"verde\",\n",
    "    \"verdes\",\n",
    "]\n",
    "ods_11_a = [\"rural\", \"campo\", \"periurbana\"]\n",
    "ods_11_b = [\n",
    "    \"eficiência\",\n",
    "    \"eficiencia\",\n",
    "    \"clima\",\n",
    "    \"climático\",\n",
    "    \"climatico\",\n",
    "    \"aquecimento\",\n",
    "    \"sendai\",\n",
    "]\n",
    "ods_11_c = []\n",
    "\n",
    "ods_11 = (\n",
    "    ods_11_1\n",
    "    + ods_11_2\n",
    "    + ods_11_3\n",
    "    + ods_11_4\n",
    "    + ods_11_5\n",
    "    + ods_11_6\n",
    "    + ods_11_7\n",
    "    + ods_11_a\n",
    "    + ods_11_b\n",
    "    + ods_11_c\n",
    ")"
   ]
  },
  {
   "cell_type": "code",
   "execution_count": 28,
   "metadata": {},
   "outputs": [],
   "source": [
    "rslt[\"ods\"] = rslt[\"Word\"].apply(lambda x: x in ods_11)"
   ]
  },
  {
   "cell_type": "code",
   "execution_count": 32,
   "metadata": {},
   "outputs": [
    {
     "data": {
      "text/html": [
       "<div>\n",
       "<style scoped>\n",
       "    .dataframe tbody tr th:only-of-type {\n",
       "        vertical-align: middle;\n",
       "    }\n",
       "\n",
       "    .dataframe tbody tr th {\n",
       "        vertical-align: top;\n",
       "    }\n",
       "\n",
       "    .dataframe thead th {\n",
       "        text-align: right;\n",
       "    }\n",
       "</style>\n",
       "<table border=\"1\" class=\"dataframe\">\n",
       "  <thead>\n",
       "    <tr style=\"text-align: right;\">\n",
       "      <th></th>\n",
       "      <th>Word</th>\n",
       "      <th>Frequency</th>\n",
       "      <th>ods</th>\n",
       "    </tr>\n",
       "  </thead>\n",
       "  <tbody>\n",
       "    <tr>\n",
       "      <th>2</th>\n",
       "      <td>nº</td>\n",
       "      <td>21498</td>\n",
       "      <td>False</td>\n",
       "    </tr>\n",
       "    <tr>\n",
       "      <th>3</th>\n",
       "      <td>prot</td>\n",
       "      <td>20631</td>\n",
       "      <td>False</td>\n",
       "    </tr>\n",
       "    <tr>\n",
       "      <th>5</th>\n",
       "      <td>empenho</td>\n",
       "      <td>18769</td>\n",
       "      <td>False</td>\n",
       "    </tr>\n",
       "    <tr>\n",
       "      <th>6</th>\n",
       "      <td>pmc</td>\n",
       "      <td>16227</td>\n",
       "      <td>False</td>\n",
       "    </tr>\n",
       "    <tr>\n",
       "      <th>7</th>\n",
       "      <td>pagamento</td>\n",
       "      <td>15047</td>\n",
       "      <td>False</td>\n",
       "    </tr>\n",
       "  </tbody>\n",
       "</table>\n",
       "</div>"
      ],
      "text/plain": [
       "        Word  Frequency    ods\n",
       "2         nº      21498  False\n",
       "3       prot      20631  False\n",
       "5    empenho      18769  False\n",
       "6        pmc      16227  False\n",
       "7  pagamento      15047  False"
      ]
     },
     "execution_count": 32,
     "metadata": {},
     "output_type": "execute_result"
    }
   ],
   "source": [
    "rslt.head()"
   ]
  },
  {
   "cell_type": "code",
   "execution_count": 34,
   "metadata": {},
   "outputs": [],
   "source": [
    "ods_rslt = rslt[rslt.ods]"
   ]
  },
  {
   "cell_type": "code",
   "execution_count": 35,
   "metadata": {},
   "outputs": [],
   "source": [
    "ods_list = list(ods_rslt[\"Word\"])"
   ]
  },
  {
   "cell_type": "code",
   "execution_count": 37,
   "metadata": {},
   "outputs": [],
   "source": [
    "def is_ods(txt, ods_list):\n",
    "    is_ods = False\n",
    "    for ods in ods_list:\n",
    "        if ods in txt:\n",
    "            is_ods = True\n",
    "    return is_ods"
   ]
  },
  {
   "cell_type": "code",
   "execution_count": 36,
   "metadata": {},
   "outputs": [],
   "source": [
    "df_csv[\"is_ods\"] = df_csv[\"historico_despesa\"].apply(lambda x: is_ods(x, ods_list))"
   ]
  },
  {
   "cell_type": "code",
   "execution_count": 39,
   "metadata": {},
   "outputs": [
    {
     "data": {
      "text/html": [
       "<div>\n",
       "<style scoped>\n",
       "    .dataframe tbody tr th:only-of-type {\n",
       "        vertical-align: middle;\n",
       "    }\n",
       "\n",
       "    .dataframe tbody tr th {\n",
       "        vertical-align: top;\n",
       "    }\n",
       "\n",
       "    .dataframe thead th {\n",
       "        text-align: right;\n",
       "    }\n",
       "</style>\n",
       "<table border=\"1\" class=\"dataframe\">\n",
       "  <thead>\n",
       "    <tr style=\"text-align: right;\">\n",
       "      <th></th>\n",
       "      <th>historico_despesa</th>\n",
       "      <th>is_ods</th>\n",
       "    </tr>\n",
       "  </thead>\n",
       "  <tbody>\n",
       "    <tr>\n",
       "      <th>0</th>\n",
       "      <td>1 PRESTACAO DE SERVICOS DE TELECOMUNICACOES  A...</td>\n",
       "      <td>False</td>\n",
       "    </tr>\n",
       "    <tr>\n",
       "      <th>1</th>\n",
       "      <td>1 ADIANTAMENTO DE FOLHA DE FUNCIONARIOS EFETIV...</td>\n",
       "      <td>False</td>\n",
       "    </tr>\n",
       "    <tr>\n",
       "      <th>2</th>\n",
       "      <td>1 PEDIDO DE ADIANTAMENTO PARA PRONTO PAGAMENT...</td>\n",
       "      <td>False</td>\n",
       "    </tr>\n",
       "    <tr>\n",
       "      <th>3</th>\n",
       "      <td>1 LOCACAO DE SOLUCAO MOVEL E PORTATIL DE TELEJ...</td>\n",
       "      <td>False</td>\n",
       "    </tr>\n",
       "    <tr>\n",
       "      <th>4</th>\n",
       "      <td>EMPENHO REF. REGISTRO DE PREÇOS DE ÁGUA MINERA...</td>\n",
       "      <td>False</td>\n",
       "    </tr>\n",
       "  </tbody>\n",
       "</table>\n",
       "</div>"
      ],
      "text/plain": [
       "                                   historico_despesa  is_ods\n",
       "0  1 PRESTACAO DE SERVICOS DE TELECOMUNICACOES  A...   False\n",
       "1  1 ADIANTAMENTO DE FOLHA DE FUNCIONARIOS EFETIV...   False\n",
       "2   1 PEDIDO DE ADIANTAMENTO PARA PRONTO PAGAMENT...   False\n",
       "3  1 LOCACAO DE SOLUCAO MOVEL E PORTATIL DE TELEJ...   False\n",
       "4  EMPENHO REF. REGISTRO DE PREÇOS DE ÁGUA MINERA...   False"
      ]
     },
     "execution_count": 39,
     "metadata": {},
     "output_type": "execute_result"
    }
   ],
   "source": [
    "df_csv[['historico_despesa', 'is_ods']].head()"
   ]
  },
  {
   "cell_type": "markdown",
   "metadata": {},
   "source": [
    "Agora temos um DataFrame com labels que indicam se o gasto está relacionado ou não, e podemos aplicar um aprendizado supervisionado para analisar, usando técnicas mais profundas de NLP (como por exemplo, n-gramas) para prever essa mesma relação para gastos futuros."
   ]
  },
  {
   "cell_type": "code",
   "execution_count": 54,
   "metadata": {},
   "outputs": [],
   "source": [
    "X_train, X_test, y_train, y_test = train_test_split(df_csv['historico_despesa'],\n",
    "                                                    pd.get_dummies(df_csv['is_ods']), \n",
    "                                                    random_state=1997)"
   ]
  },
  {
   "cell_type": "markdown",
   "metadata": {},
   "source": [
    "Aplicamos count vectorizer para tokens alfanuméricos, e usando n-gramas para até n=2, em seguida aplicando um classificador a partir de uma regressão logística."
   ]
  },
  {
   "cell_type": "code",
   "execution_count": 55,
   "metadata": {},
   "outputs": [],
   "source": [
    "pl = Pipeline([\n",
    "        ('vec', CountVectorizer(token_pattern='[A-Za-z0-9]+(?=\\\\s+)', ngram_range=(1,2))),\n",
    "        ('clf', OneVsRestClassifier(LogisticRegression()))\n",
    "    ])"
   ]
  },
  {
   "cell_type": "code",
   "execution_count": 56,
   "metadata": {},
   "outputs": [
    {
     "name": "stderr",
     "output_type": "stream",
     "text": [
      "/home/felipecgonc/.virtualenvs/deephack/lib/python3.6/site-packages/sklearn/linear_model/logistic.py:432: FutureWarning: Default solver will be changed to 'lbfgs' in 0.22. Specify a solver to silence this warning.\n",
      "  FutureWarning)\n"
     ]
    },
    {
     "data": {
      "text/plain": [
       "Pipeline(memory=None,\n",
       "         steps=[('vec',\n",
       "                 CountVectorizer(analyzer='word', binary=False,\n",
       "                                 decode_error='strict',\n",
       "                                 dtype=<class 'numpy.int64'>, encoding='utf-8',\n",
       "                                 input='content', lowercase=True, max_df=1.0,\n",
       "                                 max_features=None, min_df=1,\n",
       "                                 ngram_range=(1, 2), preprocessor=None,\n",
       "                                 stop_words=None, strip_accents=None,\n",
       "                                 token_pattern='[A-Za-z0-9]+(?=\\\\s+)',\n",
       "                                 tokenizer=None, vocabulary=None)),\n",
       "                ('clf',\n",
       "                 OneVsRestClassifier(estimator=LogisticRegression(C=1.0,\n",
       "                                                                  class_weight=None,\n",
       "                                                                  dual=False,\n",
       "                                                                  fit_intercept=True,\n",
       "                                                                  intercept_scaling=1,\n",
       "                                                                  l1_ratio=None,\n",
       "                                                                  max_iter=100,\n",
       "                                                                  multi_class='warn',\n",
       "                                                                  n_jobs=None,\n",
       "                                                                  penalty='l2',\n",
       "                                                                  random_state=None,\n",
       "                                                                  solver='warn',\n",
       "                                                                  tol=0.0001,\n",
       "                                                                  verbose=0,\n",
       "                                                                  warm_start=False),\n",
       "                                     n_jobs=None))],\n",
       "         verbose=False)"
      ]
     },
     "execution_count": 56,
     "metadata": {},
     "output_type": "execute_result"
    }
   ],
   "source": [
    "pl.fit(X_train, y_train)"
   ]
  },
  {
   "cell_type": "code",
   "execution_count": 57,
   "metadata": {},
   "outputs": [],
   "source": [
    "accuracy = pl.score(X_test, y_test)"
   ]
  },
  {
   "cell_type": "code",
   "execution_count": 58,
   "metadata": {},
   "outputs": [
    {
     "data": {
      "text/plain": [
       "0.9956915293094589"
      ]
     },
     "execution_count": 58,
     "metadata": {},
     "output_type": "execute_result"
    }
   ],
   "source": [
    "accuracy"
   ]
  },
  {
   "cell_type": "markdown",
   "metadata": {},
   "source": [
    "Vemos que a precisão é boa. No entanto, o treinamento do modelo se baseia nas categorias aplicadas automáticamente por uma busca simples de palavras. Caso as despesas fossem categorizadas manualmente, poderíamos extrair um aprendizado menos óbvio desse modelo. Sendo assim, o exemplo aqui apresentado tem suas limitações, mas a metodologia pode ser aplicada a um modelo com dados melhores."
   ]
  },
  {
   "cell_type": "markdown",
   "metadata": {},
   "source": [
    "Tal modelo pode ser aplicado a novos dados vindos da API, permitindo classificar instantâneamente se estes estão relacionados ao ODS 11 ou não."
   ]
  }
 ],
 "metadata": {
  "kernelspec": {
   "display_name": "Python 3",
   "language": "python",
   "name": "python3"
  },
  "language_info": {
   "codemirror_mode": {
    "name": "ipython",
    "version": 3
   },
   "file_extension": ".py",
   "mimetype": "text/x-python",
   "name": "python",
   "nbconvert_exporter": "python",
   "pygments_lexer": "ipython3",
   "version": "3.6.8"
  }
 },
 "nbformat": 4,
 "nbformat_minor": 2
}
