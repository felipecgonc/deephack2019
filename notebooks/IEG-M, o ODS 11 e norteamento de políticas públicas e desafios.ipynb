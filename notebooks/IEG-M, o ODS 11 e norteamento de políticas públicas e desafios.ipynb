{
 "cells": [
  {
   "cell_type": "markdown",
   "metadata": {},
   "source": [
    "# Metas do Objetivo 11\n",
    "\n",
    "* **11.1** Até 2030, garantir o acesso de todos a habitação segura, adequada e a preço acessível, e aos serviços básicos e urbanizar as favelas\t\n",
    "* **11.2** Até 2030, proporcionar o acesso a sistemas de transporte seguros, acessíveis, sustentáveis e a preço acessível para todos, melhorando a segurança rodoviária por meio da expansão dos transportes públicos, com especial atenção para as necessidades das pessoas em situação de vulnerabilidade, mulheres, crianças, pessoas com deficiência e idosos\t\n",
    "* **11.3** Até 2030, aumentar a urbanização inclusiva e sustentável, e a capacidade para o planejamento e a gestão participativa, integrada e sustentável dos assentamentos humanos, em todos os países\t\n",
    "* **11.4** Fortalecer esforços para proteger e salvaguardar o patrimônio cultural e natural do mundo\t\n",
    "* **11.5** Até 2030, reduzir significativamente o número de mortes e o número de pessoas afetadas por catástrofes e diminuir substancialmente as perdas econômicas diretas causadas por elas em relação ao produto interno bruto global, incluindo os desastres relacionados à água, com o foco em proteger os pobres e as pessoas em situação de vulnerabilidade\t\n",
    "* **11.6** Até 2030, reduzir o impacto ambiental negativo per capita das cidades, inclusive prestando especial atenção à qualidade do ar, gestão de resíduos municipais e outros\t\n",
    "* **11.7** Até 2030, proporcionar o acesso universal a espaços públicos seguros, inclusivos, acessíveis e verdes, em particular para as mulheres e crianças, pessoas idosas e pessoas com deficiência\t\n",
    "* **11.a** Apoiar relações econômicas, sociais e ambientais positivas entre áreas urbanas, periurbanas e rurais, reforçando o planejamento nacional e regional de desenvolvimento\t\n",
    "* **11.b** Até 2020, aumentar substancialmente o número de cidades e assentamentos humanos adotando e implementando políticas e planos integrados para a inclusão, a eficiência dos recursos, mitigação e adaptação à mudança do clima, a resiliência a desastres; e desenvolver e implementar, de acordo com o Marco de Sendai para a Redução do Risco de Desastres 2015-2030, o gerenciamento holístico do risco de desastres em todos os níveis\t\n",
    "* **11.c** Apoiar os países menos desenvolvidos, inclusive por meio de assistência técnica e financeira, para construções sustentáveis e robustas, utilizando materiais locais"
   ]
  },
  {
   "cell_type": "code",
   "execution_count": 3,
   "metadata": {},
   "outputs": [],
   "source": [
    "import pandas as pd\n",
    "from IPython.display import display\n",
    "import seaborn as sns\n",
    "from matplotlib import pyplot as plt\n",
    "%matplotlib inline"
   ]
  },
  {
   "cell_type": "markdown",
   "metadata": {},
   "source": [
    " "
   ]
  },
  {
   "cell_type": "markdown",
   "metadata": {},
   "source": [
    "Analisando o IEG-M, podemos ver que os índices que se relacionam com o mesmo são o i-Planejamento, i-Amb e i-Cidade."
   ]
  },
  {
   "cell_type": "code",
   "execution_count": 46,
   "metadata": {},
   "outputs": [],
   "source": [
    "iegm_scores = pd.read_csv(\"../data/iegm/IEGM-notas.csv\")"
   ]
  },
  {
   "cell_type": "code",
   "execution_count": 47,
   "metadata": {},
   "outputs": [
    {
     "data": {
      "text/html": [
       "<div>\n",
       "<style scoped>\n",
       "    .dataframe tbody tr th:only-of-type {\n",
       "        vertical-align: middle;\n",
       "    }\n",
       "\n",
       "    .dataframe tbody tr th {\n",
       "        vertical-align: top;\n",
       "    }\n",
       "\n",
       "    .dataframe thead th {\n",
       "        text-align: right;\n",
       "    }\n",
       "</style>\n",
       "<table border=\"1\" class=\"dataframe\">\n",
       "  <thead>\n",
       "    <tr style=\"text-align: right;\">\n",
       "      <th></th>\n",
       "      <th>Munícipio</th>\n",
       "      <th>Região Administrativa</th>\n",
       "      <th>Ano</th>\n",
       "      <th>Porte</th>\n",
       "      <th>i-Educ</th>\n",
       "      <th>i-Saúde</th>\n",
       "      <th>i-Planejamento</th>\n",
       "      <th>i-Fiscal</th>\n",
       "      <th>i-Amb</th>\n",
       "      <th>i-Cidade</th>\n",
       "      <th>i-Gov-TI</th>\n",
       "      <th>IEGM</th>\n",
       "      <th>Receita</th>\n",
       "      <th>Despesa</th>\n",
       "      <th>Habitantes</th>\n",
       "    </tr>\n",
       "  </thead>\n",
       "  <tbody>\n",
       "    <tr>\n",
       "      <th>0</th>\n",
       "      <td>Adamantina</td>\n",
       "      <td>Região Administrativa de Presidente Prudente</td>\n",
       "      <td>2014</td>\n",
       "      <td>Médio</td>\n",
       "      <td>A</td>\n",
       "      <td>A</td>\n",
       "      <td>C</td>\n",
       "      <td>B</td>\n",
       "      <td>A</td>\n",
       "      <td>C</td>\n",
       "      <td>B</td>\n",
       "      <td>B</td>\n",
       "      <td>R$ 105,070,271.12</td>\n",
       "      <td>R$ 107,526,432.80</td>\n",
       "      <td>33862</td>\n",
       "    </tr>\n",
       "    <tr>\n",
       "      <th>1</th>\n",
       "      <td>Adamantina</td>\n",
       "      <td>Região Administrativa de Presidente Prudente</td>\n",
       "      <td>2015</td>\n",
       "      <td>Médio</td>\n",
       "      <td>B+</td>\n",
       "      <td>B+</td>\n",
       "      <td>B+</td>\n",
       "      <td>B</td>\n",
       "      <td>B</td>\n",
       "      <td>C</td>\n",
       "      <td>C</td>\n",
       "      <td>B</td>\n",
       "      <td>R$ 115,400,733.51</td>\n",
       "      <td>R$ 127,982,995.60</td>\n",
       "      <td>33879</td>\n",
       "    </tr>\n",
       "    <tr>\n",
       "      <th>2</th>\n",
       "      <td>Adamantina</td>\n",
       "      <td>Região Administrativa de Presidente Prudente</td>\n",
       "      <td>2016</td>\n",
       "      <td>Médio</td>\n",
       "      <td>C+</td>\n",
       "      <td>B</td>\n",
       "      <td>B</td>\n",
       "      <td>B</td>\n",
       "      <td>B</td>\n",
       "      <td>C</td>\n",
       "      <td>C+</td>\n",
       "      <td>B</td>\n",
       "      <td>R$ 131,885,361.56</td>\n",
       "      <td>R$ 121,733,123.12</td>\n",
       "      <td>33882</td>\n",
       "    </tr>\n",
       "    <tr>\n",
       "      <th>3</th>\n",
       "      <td>Adamantina</td>\n",
       "      <td>Região Administrativa de Presidente Prudente</td>\n",
       "      <td>2017</td>\n",
       "      <td>Médio</td>\n",
       "      <td>B</td>\n",
       "      <td>B+</td>\n",
       "      <td>B</td>\n",
       "      <td>B+</td>\n",
       "      <td>B+</td>\n",
       "      <td>C</td>\n",
       "      <td>B</td>\n",
       "      <td>B</td>\n",
       "      <td>R$ 152,247,951.90</td>\n",
       "      <td>R$ 137,083,669.93</td>\n",
       "      <td>35139</td>\n",
       "    </tr>\n",
       "    <tr>\n",
       "      <th>4</th>\n",
       "      <td>Adolfo</td>\n",
       "      <td>Região Administrativa de São José do Rio Preto</td>\n",
       "      <td>2014</td>\n",
       "      <td>Muito Pequeno</td>\n",
       "      <td>B+</td>\n",
       "      <td>A</td>\n",
       "      <td>A</td>\n",
       "      <td>C+</td>\n",
       "      <td>B+</td>\n",
       "      <td>C</td>\n",
       "      <td>C+</td>\n",
       "      <td>B+</td>\n",
       "      <td>R$ 18,718,870.00</td>\n",
       "      <td>R$ 20,468,440.31</td>\n",
       "      <td>3512</td>\n",
       "    </tr>\n",
       "  </tbody>\n",
       "</table>\n",
       "</div>"
      ],
      "text/plain": [
       "    Munícipio                           Região Administrativa   Ano  \\\n",
       "0  Adamantina    Região Administrativa de Presidente Prudente  2014   \n",
       "1  Adamantina    Região Administrativa de Presidente Prudente  2015   \n",
       "2  Adamantina    Região Administrativa de Presidente Prudente  2016   \n",
       "3  Adamantina    Região Administrativa de Presidente Prudente  2017   \n",
       "4      Adolfo  Região Administrativa de São José do Rio Preto  2014   \n",
       "\n",
       "           Porte i-Educ i-Saúde i-Planejamento i-Fiscal i-Amb i-Cidade  \\\n",
       "0          Médio      A       A              C        B     A        C   \n",
       "1          Médio     B+      B+             B+        B     B        C   \n",
       "2          Médio     C+       B              B        B     B        C   \n",
       "3          Médio      B      B+              B       B+    B+        C   \n",
       "4  Muito Pequeno     B+       A              A       C+    B+        C   \n",
       "\n",
       "  i-Gov-TI IEGM            Receita            Despesa  Habitantes  \n",
       "0        B    B  R$ 105,070,271.12  R$ 107,526,432.80       33862  \n",
       "1        C    B  R$ 115,400,733.51  R$ 127,982,995.60       33879  \n",
       "2       C+    B  R$ 131,885,361.56  R$ 121,733,123.12       33882  \n",
       "3        B    B  R$ 152,247,951.90  R$ 137,083,669.93       35139  \n",
       "4       C+   B+   R$ 18,718,870.00   R$ 20,468,440.31        3512  "
      ]
     },
     "execution_count": 47,
     "metadata": {},
     "output_type": "execute_result"
    }
   ],
   "source": [
    "iegm_scores.head()"
   ]
  },
  {
   "cell_type": "code",
   "execution_count": 48,
   "metadata": {},
   "outputs": [],
   "source": [
    "clusterized_cities_parameters = pd.read_csv(\"../data/generated/cluster_parameters.csv\", encoding=\"windows-1254\")"
   ]
  },
  {
   "cell_type": "code",
   "execution_count": 49,
   "metadata": {},
   "outputs": [],
   "source": [
    "clusterized_cities = pd.read_csv(\"../data/generated/clusterized_cities.csv\", encoding=\"windows-1254\")"
   ]
  },
  {
   "cell_type": "code",
   "execution_count": 50,
   "metadata": {},
   "outputs": [],
   "source": [
    "cluster_data = clusterized_cities_parameters.merge(clusterized_cities)"
   ]
  },
  {
   "cell_type": "code",
   "execution_count": 51,
   "metadata": {},
   "outputs": [],
   "source": [
    "cluster_data.drop('Unnamed: 0', axis=1, inplace=True)"
   ]
  },
  {
   "cell_type": "code",
   "execution_count": 52,
   "metadata": {},
   "outputs": [
    {
     "data": {
      "text/html": [
       "<div>\n",
       "<style scoped>\n",
       "    .dataframe tbody tr th:only-of-type {\n",
       "        vertical-align: middle;\n",
       "    }\n",
       "\n",
       "    .dataframe tbody tr th {\n",
       "        vertical-align: top;\n",
       "    }\n",
       "\n",
       "    .dataframe thead th {\n",
       "        text-align: right;\n",
       "    }\n",
       "</style>\n",
       "<table border=\"1\" class=\"dataframe\">\n",
       "  <thead>\n",
       "    <tr style=\"text-align: right;\">\n",
       "      <th></th>\n",
       "      <th>municipio</th>\n",
       "      <th>arrecadacao</th>\n",
       "      <th>habitantes</th>\n",
       "      <th>idhm</th>\n",
       "      <th>cluster_labels</th>\n",
       "    </tr>\n",
       "  </thead>\n",
       "  <tbody>\n",
       "    <tr>\n",
       "      <th>0</th>\n",
       "      <td>Adamantina</td>\n",
       "      <td>1.668520e+08</td>\n",
       "      <td>33797.0</td>\n",
       "      <td>0.790</td>\n",
       "      <td>4</td>\n",
       "    </tr>\n",
       "    <tr>\n",
       "      <th>1</th>\n",
       "      <td>Adolfo</td>\n",
       "      <td>2.581124e+07</td>\n",
       "      <td>3557.0</td>\n",
       "      <td>0.730</td>\n",
       "      <td>2</td>\n",
       "    </tr>\n",
       "    <tr>\n",
       "      <th>2</th>\n",
       "      <td>Aguaí</td>\n",
       "      <td>8.606935e+07</td>\n",
       "      <td>32148.0</td>\n",
       "      <td>0.715</td>\n",
       "      <td>1</td>\n",
       "    </tr>\n",
       "    <tr>\n",
       "      <th>3</th>\n",
       "      <td>Agudos</td>\n",
       "      <td>1.493109e+08</td>\n",
       "      <td>34524.0</td>\n",
       "      <td>0.745</td>\n",
       "      <td>2</td>\n",
       "    </tr>\n",
       "    <tr>\n",
       "      <th>4</th>\n",
       "      <td>Alambari</td>\n",
       "      <td>2.307959e+07</td>\n",
       "      <td>4884.0</td>\n",
       "      <td>0.712</td>\n",
       "      <td>1</td>\n",
       "    </tr>\n",
       "  </tbody>\n",
       "</table>\n",
       "</div>"
      ],
      "text/plain": [
       "    municipio   arrecadacao  habitantes   idhm  cluster_labels\n",
       "0  Adamantina  1.668520e+08     33797.0  0.790               4\n",
       "1      Adolfo  2.581124e+07      3557.0  0.730               2\n",
       "2       Aguaí  8.606935e+07     32148.0  0.715               1\n",
       "3      Agudos  1.493109e+08     34524.0  0.745               2\n",
       "4    Alambari  2.307959e+07      4884.0  0.712               1"
      ]
     },
     "execution_count": 52,
     "metadata": {},
     "output_type": "execute_result"
    }
   ],
   "source": [
    "cluster_data.head()"
   ]
  },
  {
   "cell_type": "code",
   "execution_count": 53,
   "metadata": {},
   "outputs": [],
   "source": [
    "iegm_scores.rename(columns={\"Munícipio\": \"municipio\"}, inplace=True)"
   ]
  },
  {
   "cell_type": "code",
   "execution_count": 54,
   "metadata": {},
   "outputs": [],
   "source": [
    "final_df = iegm_scores.merge(cluster_data)"
   ]
  },
  {
   "cell_type": "code",
   "execution_count": 56,
   "metadata": {},
   "outputs": [],
   "source": [
    "final_df = final_df[['municipio', 'IEGM', 'i-Planejamento', 'i-Amb', 'i-Cidade', 'arrecadacao', 'habitantes', 'idhm', 'cluster_labels']]"
   ]
  },
  {
   "cell_type": "markdown",
   "metadata": {},
   "source": [
    "Com os clusters obtidos no notebook *Clusterizando cidades*, observamos os clusters formados, com base na arrecadação, no número de habitantes e no IDH. Observamos que, enquanto uma maior arrecadação está correlacionada com um número maior de habitantes (o que faz total sentido), nem sempre o IDH segue a mesma tendência."
   ]
  },
  {
   "cell_type": "code",
   "execution_count": 75,
   "metadata": {},
   "outputs": [],
   "source": [
    "grouped_df = final_df.groupby('cluster_labels').mean().sort_values('arrecadacao', ascending=False)"
   ]
  },
  {
   "cell_type": "code",
   "execution_count": 97,
   "metadata": {},
   "outputs": [
    {
     "data": {
      "text/html": [
       "<div>\n",
       "<style scoped>\n",
       "    .dataframe tbody tr th:only-of-type {\n",
       "        vertical-align: middle;\n",
       "    }\n",
       "\n",
       "    .dataframe tbody tr th {\n",
       "        vertical-align: top;\n",
       "    }\n",
       "\n",
       "    .dataframe thead th {\n",
       "        text-align: right;\n",
       "    }\n",
       "</style>\n",
       "<table border=\"1\" class=\"dataframe\">\n",
       "  <thead>\n",
       "    <tr style=\"text-align: right;\">\n",
       "      <th></th>\n",
       "      <th>arrecadacao</th>\n",
       "      <th>habitantes</th>\n",
       "      <th>idhm</th>\n",
       "    </tr>\n",
       "    <tr>\n",
       "      <th>cluster_labels</th>\n",
       "      <th></th>\n",
       "      <th></th>\n",
       "      <th></th>\n",
       "    </tr>\n",
       "  </thead>\n",
       "  <tbody>\n",
       "    <tr>\n",
       "      <th>7</th>\n",
       "      <td>4.462517e+09</td>\n",
       "      <td>1.022518e+06</td>\n",
       "      <td>0.791000</td>\n",
       "    </tr>\n",
       "    <tr>\n",
       "      <th>6</th>\n",
       "      <td>2.623530e+09</td>\n",
       "      <td>5.243312e+05</td>\n",
       "      <td>0.805500</td>\n",
       "    </tr>\n",
       "    <tr>\n",
       "      <th>3</th>\n",
       "      <td>1.020709e+09</td>\n",
       "      <td>3.069829e+05</td>\n",
       "      <td>0.765100</td>\n",
       "    </tr>\n",
       "    <tr>\n",
       "      <th>5</th>\n",
       "      <td>9.385177e+08</td>\n",
       "      <td>1.579851e+05</td>\n",
       "      <td>0.792375</td>\n",
       "    </tr>\n",
       "    <tr>\n",
       "      <th>4</th>\n",
       "      <td>2.596934e+08</td>\n",
       "      <td>7.097414e+04</td>\n",
       "      <td>0.787649</td>\n",
       "    </tr>\n",
       "    <tr>\n",
       "      <th>2</th>\n",
       "      <td>7.835404e+07</td>\n",
       "      <td>2.111833e+04</td>\n",
       "      <td>0.742033</td>\n",
       "    </tr>\n",
       "    <tr>\n",
       "      <th>1</th>\n",
       "      <td>3.835376e+07</td>\n",
       "      <td>1.081218e+04</td>\n",
       "      <td>0.696368</td>\n",
       "    </tr>\n",
       "  </tbody>\n",
       "</table>\n",
       "</div>"
      ],
      "text/plain": [
       "                 arrecadacao    habitantes      idhm\n",
       "cluster_labels                                      \n",
       "7               4.462517e+09  1.022518e+06  0.791000\n",
       "6               2.623530e+09  5.243312e+05  0.805500\n",
       "3               1.020709e+09  3.069829e+05  0.765100\n",
       "5               9.385177e+08  1.579851e+05  0.792375\n",
       "4               2.596934e+08  7.097414e+04  0.787649\n",
       "2               7.835404e+07  2.111833e+04  0.742033\n",
       "1               3.835376e+07  1.081218e+04  0.696368"
      ]
     },
     "execution_count": 97,
     "metadata": {},
     "output_type": "execute_result"
    }
   ],
   "source": [
    "grouped_df"
   ]
  },
  {
   "cell_type": "markdown",
   "metadata": {},
   "source": [
    "Tentaremos visualizar, agora, como esses fatores se relacionam com a performance no IEG-M."
   ]
  },
  {
   "cell_type": "code",
   "execution_count": 84,
   "metadata": {},
   "outputs": [
    {
     "data": {
      "text/html": [
       "<div>\n",
       "<style scoped>\n",
       "    .dataframe tbody tr th:only-of-type {\n",
       "        vertical-align: middle;\n",
       "    }\n",
       "\n",
       "    .dataframe tbody tr th {\n",
       "        vertical-align: top;\n",
       "    }\n",
       "\n",
       "    .dataframe thead th {\n",
       "        text-align: right;\n",
       "    }\n",
       "</style>\n",
       "<table border=\"1\" class=\"dataframe\">\n",
       "  <thead>\n",
       "    <tr style=\"text-align: right;\">\n",
       "      <th></th>\n",
       "      <th>municipio</th>\n",
       "      <th>IEGM</th>\n",
       "      <th>i-Planejamento</th>\n",
       "      <th>i-Amb</th>\n",
       "      <th>i-Cidade</th>\n",
       "      <th>arrecadacao</th>\n",
       "      <th>habitantes</th>\n",
       "      <th>idhm</th>\n",
       "      <th>cluster_labels</th>\n",
       "    </tr>\n",
       "  </thead>\n",
       "  <tbody>\n",
       "    <tr>\n",
       "      <th>0</th>\n",
       "      <td>Adamantina</td>\n",
       "      <td>B</td>\n",
       "      <td>C</td>\n",
       "      <td>A</td>\n",
       "      <td>C</td>\n",
       "      <td>1.668520e+08</td>\n",
       "      <td>33797.0</td>\n",
       "      <td>0.79</td>\n",
       "      <td>4</td>\n",
       "    </tr>\n",
       "    <tr>\n",
       "      <th>1</th>\n",
       "      <td>Adamantina</td>\n",
       "      <td>B</td>\n",
       "      <td>B+</td>\n",
       "      <td>B</td>\n",
       "      <td>C</td>\n",
       "      <td>1.668520e+08</td>\n",
       "      <td>33797.0</td>\n",
       "      <td>0.79</td>\n",
       "      <td>4</td>\n",
       "    </tr>\n",
       "    <tr>\n",
       "      <th>2</th>\n",
       "      <td>Adamantina</td>\n",
       "      <td>B</td>\n",
       "      <td>B</td>\n",
       "      <td>B</td>\n",
       "      <td>C</td>\n",
       "      <td>1.668520e+08</td>\n",
       "      <td>33797.0</td>\n",
       "      <td>0.79</td>\n",
       "      <td>4</td>\n",
       "    </tr>\n",
       "    <tr>\n",
       "      <th>3</th>\n",
       "      <td>Adamantina</td>\n",
       "      <td>B</td>\n",
       "      <td>B</td>\n",
       "      <td>B+</td>\n",
       "      <td>C</td>\n",
       "      <td>1.668520e+08</td>\n",
       "      <td>33797.0</td>\n",
       "      <td>0.79</td>\n",
       "      <td>4</td>\n",
       "    </tr>\n",
       "    <tr>\n",
       "      <th>4</th>\n",
       "      <td>Adolfo</td>\n",
       "      <td>B+</td>\n",
       "      <td>A</td>\n",
       "      <td>B+</td>\n",
       "      <td>C</td>\n",
       "      <td>2.581124e+07</td>\n",
       "      <td>3557.0</td>\n",
       "      <td>0.73</td>\n",
       "      <td>2</td>\n",
       "    </tr>\n",
       "  </tbody>\n",
       "</table>\n",
       "</div>"
      ],
      "text/plain": [
       "    municipio IEGM i-Planejamento i-Amb i-Cidade   arrecadacao  habitantes  \\\n",
       "0  Adamantina    B              C     A        C  1.668520e+08     33797.0   \n",
       "1  Adamantina    B             B+     B        C  1.668520e+08     33797.0   \n",
       "2  Adamantina    B              B     B        C  1.668520e+08     33797.0   \n",
       "3  Adamantina    B              B    B+        C  1.668520e+08     33797.0   \n",
       "4      Adolfo   B+              A    B+        C  2.581124e+07      3557.0   \n",
       "\n",
       "   idhm  cluster_labels  \n",
       "0  0.79               4  \n",
       "1  0.79               4  \n",
       "2  0.79               4  \n",
       "3  0.79               4  \n",
       "4  0.73               2  "
      ]
     },
     "execution_count": 84,
     "metadata": {},
     "output_type": "execute_result"
    }
   ],
   "source": [
    "final_df.head()"
   ]
  },
  {
   "cell_type": "code",
   "execution_count": 86,
   "metadata": {},
   "outputs": [],
   "source": [
    "conversion_dict = {\"C\": 1, \"C+\": 2, \"B\": 3, \"B+\": 4, \"A\": 5}\n",
    "for column in ['IEGM', 'i-Planejamento', 'i-Amb', 'i-Cidade']:\n",
    "    final_df[column] = final_df[column].apply(lambda x: conversion_dict[x])"
   ]
  },
  {
   "cell_type": "code",
   "execution_count": 87,
   "metadata": {
    "scrolled": true
   },
   "outputs": [
    {
     "data": {
      "text/html": [
       "<div>\n",
       "<style scoped>\n",
       "    .dataframe tbody tr th:only-of-type {\n",
       "        vertical-align: middle;\n",
       "    }\n",
       "\n",
       "    .dataframe tbody tr th {\n",
       "        vertical-align: top;\n",
       "    }\n",
       "\n",
       "    .dataframe thead th {\n",
       "        text-align: right;\n",
       "    }\n",
       "</style>\n",
       "<table border=\"1\" class=\"dataframe\">\n",
       "  <thead>\n",
       "    <tr style=\"text-align: right;\">\n",
       "      <th></th>\n",
       "      <th>municipio</th>\n",
       "      <th>IEGM</th>\n",
       "      <th>i-Planejamento</th>\n",
       "      <th>i-Amb</th>\n",
       "      <th>i-Cidade</th>\n",
       "      <th>arrecadacao</th>\n",
       "      <th>habitantes</th>\n",
       "      <th>idhm</th>\n",
       "      <th>cluster_labels</th>\n",
       "    </tr>\n",
       "  </thead>\n",
       "  <tbody>\n",
       "    <tr>\n",
       "      <th>0</th>\n",
       "      <td>Adamantina</td>\n",
       "      <td>3</td>\n",
       "      <td>1</td>\n",
       "      <td>5</td>\n",
       "      <td>1</td>\n",
       "      <td>1.668520e+08</td>\n",
       "      <td>33797.0</td>\n",
       "      <td>0.79</td>\n",
       "      <td>4</td>\n",
       "    </tr>\n",
       "    <tr>\n",
       "      <th>1</th>\n",
       "      <td>Adamantina</td>\n",
       "      <td>3</td>\n",
       "      <td>4</td>\n",
       "      <td>3</td>\n",
       "      <td>1</td>\n",
       "      <td>1.668520e+08</td>\n",
       "      <td>33797.0</td>\n",
       "      <td>0.79</td>\n",
       "      <td>4</td>\n",
       "    </tr>\n",
       "    <tr>\n",
       "      <th>2</th>\n",
       "      <td>Adamantina</td>\n",
       "      <td>3</td>\n",
       "      <td>3</td>\n",
       "      <td>3</td>\n",
       "      <td>1</td>\n",
       "      <td>1.668520e+08</td>\n",
       "      <td>33797.0</td>\n",
       "      <td>0.79</td>\n",
       "      <td>4</td>\n",
       "    </tr>\n",
       "    <tr>\n",
       "      <th>3</th>\n",
       "      <td>Adamantina</td>\n",
       "      <td>3</td>\n",
       "      <td>3</td>\n",
       "      <td>4</td>\n",
       "      <td>1</td>\n",
       "      <td>1.668520e+08</td>\n",
       "      <td>33797.0</td>\n",
       "      <td>0.79</td>\n",
       "      <td>4</td>\n",
       "    </tr>\n",
       "    <tr>\n",
       "      <th>4</th>\n",
       "      <td>Adolfo</td>\n",
       "      <td>4</td>\n",
       "      <td>5</td>\n",
       "      <td>4</td>\n",
       "      <td>1</td>\n",
       "      <td>2.581124e+07</td>\n",
       "      <td>3557.0</td>\n",
       "      <td>0.73</td>\n",
       "      <td>2</td>\n",
       "    </tr>\n",
       "  </tbody>\n",
       "</table>\n",
       "</div>"
      ],
      "text/plain": [
       "    municipio  IEGM  i-Planejamento  i-Amb  i-Cidade   arrecadacao  \\\n",
       "0  Adamantina     3               1      5         1  1.668520e+08   \n",
       "1  Adamantina     3               4      3         1  1.668520e+08   \n",
       "2  Adamantina     3               3      3         1  1.668520e+08   \n",
       "3  Adamantina     3               3      4         1  1.668520e+08   \n",
       "4      Adolfo     4               5      4         1  2.581124e+07   \n",
       "\n",
       "   habitantes  idhm  cluster_labels  \n",
       "0     33797.0  0.79               4  \n",
       "1     33797.0  0.79               4  \n",
       "2     33797.0  0.79               4  \n",
       "3     33797.0  0.79               4  \n",
       "4      3557.0  0.73               2  "
      ]
     },
     "execution_count": 87,
     "metadata": {},
     "output_type": "execute_result"
    }
   ],
   "source": [
    "final_df.head()"
   ]
  },
  {
   "cell_type": "markdown",
   "metadata": {},
   "source": [
    "# Cluster 7"
   ]
  },
  {
   "cell_type": "code",
   "execution_count": 130,
   "metadata": {},
   "outputs": [
    {
     "name": "stdout",
     "output_type": "stream",
     "text": [
      "Arrecadação média: 4462516910.92, Número de Habitantes médio: 1022518.333, IDHM médio: 0.791\n"
     ]
    }
   ],
   "source": [
    "current_cluster = grouped_df.loc[7]\n",
    "print(f\"Arrecadação média: {round(current_cluster['arrecadacao'], 3)}, \" \n",
    "          f\"Número de Habitantes médio: {round(current_cluster['habitantes'], 3)}, \"\n",
    "          f\"IDHM médio: {round(current_cluster['idhm'], 3)}\")"
   ]
  },
  {
   "cell_type": "code",
   "execution_count": 131,
   "metadata": {},
   "outputs": [
    {
     "data": {
      "text/plain": [
       "<matplotlib.axes._subplots.AxesSubplot at 0x7f3f41f60978>"
      ]
     },
     "metadata": {},
     "output_type": "display_data"
    },
    {
     "data": {
      "image/png": "[encoded data removed]",
      "text/plain": [
       "<Figure size 432x288 with 1 Axes>"
      ]
     },
     "metadata": {
      "needs_background": "light"
     },
     "output_type": "display_data"
    }
   ],
   "source": [
    "temp_df = final_df[final_df.cluster_labels == 7].groupby('cluster_labels').mean()\n",
    "display(temp_df[['IEGM', 'i-Planejamento', 'i-Amb', 'i-Cidade']].plot(kind='bar'))"
   ]
  },
  {
   "cell_type": "markdown",
   "metadata": {},
   "source": [
    "# Cluster 6"
   ]
  },
  {
   "cell_type": "code",
   "execution_count": 132,
   "metadata": {},
   "outputs": [
    {
     "name": "stdout",
     "output_type": "stream",
     "text": [
      "Arrecadação média: 2623529664.421, Número de Habitantes médio: 524331.25, IDHM médio: 0.805\n"
     ]
    }
   ],
   "source": [
    "current_cluster = grouped_df.loc[6]\n",
    "print(f\"Arrecadação média: {round(current_cluster['arrecadacao'], 3)}, \" \n",
    "          f\"Número de Habitantes médio: {round(current_cluster['habitantes'], 3)}, \"\n",
    "          f\"IDHM médio: {round(current_cluster['idhm'], 3)}\")"
   ]
  },
  {
   "cell_type": "code",
   "execution_count": 133,
   "metadata": {},
   "outputs": [
    {
     "data": {
      "text/plain": [
       "<matplotlib.axes._subplots.AxesSubplot at 0x7f3f56b50320>"
      ]
     },
     "metadata": {},
     "output_type": "display_data"
    },
    {
     "data": {
      "image/png": "[encoded data removed]",
      "text/plain": [
       "<Figure size 432x288 with 1 Axes>"
      ]
     },
     "metadata": {
      "needs_background": "light"
     },
     "output_type": "display_data"
    }
   ],
   "source": [
    "temp_df = final_df[final_df.cluster_labels == 6].groupby('cluster_labels').mean()\n",
    "display(temp_df[['IEGM', 'i-Planejamento', 'i-Amb', 'i-Cidade']].plot(kind='bar'))"
   ]
  },
  {
   "cell_type": "markdown",
   "metadata": {},
   "source": [
    "# Cluster 3"
   ]
  },
  {
   "cell_type": "code",
   "execution_count": 134,
   "metadata": {},
   "outputs": [
    {
     "name": "stdout",
     "output_type": "stream",
     "text": [
      "Arrecadação média: 1020708581.823, Número de Habitantes médio: 306982.9, IDHM médio: 0.765\n"
     ]
    }
   ],
   "source": [
    "current_cluster = grouped_df.loc[3]\n",
    "print(f\"Arrecadação média: {round(current_cluster['arrecadacao'], 3)}, \" \n",
    "          f\"Número de Habitantes médio: {round(current_cluster['habitantes'], 3)}, \"\n",
    "          f\"IDHM médio: {round(current_cluster['idhm'], 3)}\")"
   ]
  },
  {
   "cell_type": "code",
   "execution_count": 136,
   "metadata": {},
   "outputs": [
    {
     "data": {
      "text/plain": [
       "<matplotlib.axes._subplots.AxesSubplot at 0x7f3f4165e588>"
      ]
     },
     "execution_count": 136,
     "metadata": {},
     "output_type": "execute_result"
    },
    {
     "data": {
      "image/png": "[encoded data removed]",
      "text/plain": [
       "<Figure size 432x288 with 1 Axes>"
      ]
     },
     "metadata": {
      "needs_background": "light"
     },
     "output_type": "display_data"
    }
   ],
   "source": [
    "temp_df = final_df[final_df.cluster_labels == 3].groupby('cluster_labels').mean()\n",
    "temp_df[['IEGM', 'i-Planejamento', 'i-Amb', 'i-Cidade']].plot(kind='bar')"
   ]
  },
  {
   "cell_type": "markdown",
   "metadata": {},
   "source": [
    "# Cluster 5"
   ]
  },
  {
   "cell_type": "code",
   "execution_count": 137,
   "metadata": {},
   "outputs": [
    {
     "name": "stdout",
     "output_type": "stream",
     "text": [
      "Arrecadação média: 938517675.542, Número de Habitantes médio: 157985.062, IDHM médio: 0.792\n"
     ]
    }
   ],
   "source": [
    "current_cluster = grouped_df.loc[5]\n",
    "print(f\"Arrecadação média: {round(current_cluster['arrecadacao'], 3)}, \" \n",
    "          f\"Número de Habitantes médio: {round(current_cluster['habitantes'], 3)}, \"\n",
    "          f\"IDHM médio: {round(current_cluster['idhm'], 3)}\")"
   ]
  },
  {
   "cell_type": "code",
   "execution_count": 138,
   "metadata": {},
   "outputs": [
    {
     "data": {
      "text/plain": [
       "<matplotlib.axes._subplots.AxesSubplot at 0x7f3f41a7ab70>"
      ]
     },
     "metadata": {},
     "output_type": "display_data"
    },
    {
     "data": {
      "image/png": "[encoded data removed]",
      "text/plain": [
       "<Figure size 432x288 with 1 Axes>"
      ]
     },
     "metadata": {
      "needs_background": "light"
     },
     "output_type": "display_data"
    }
   ],
   "source": [
    "temp_df = final_df[final_df.cluster_labels == 5].groupby('cluster_labels').mean()\n",
    "display(temp_df[['IEGM', 'i-Planejamento', 'i-Amb', 'i-Cidade']].plot(kind='bar'))"
   ]
  },
  {
   "cell_type": "markdown",
   "metadata": {},
   "source": [
    "# Cluster 4"
   ]
  },
  {
   "cell_type": "code",
   "execution_count": 139,
   "metadata": {},
   "outputs": [
    {
     "name": "stdout",
     "output_type": "stream",
     "text": [
      "Arrecadação média: 259693440.015, Número de Habitantes médio: 70974.14, IDHM médio: 0.788\n"
     ]
    }
   ],
   "source": [
    "current_cluster = grouped_df.loc[4]\n",
    "print(f\"Arrecadação média: {round(current_cluster['arrecadacao'], 3)}, \" \n",
    "          f\"Número de Habitantes médio: {round(current_cluster['habitantes'], 3)}, \"\n",
    "          f\"IDHM médio: {round(current_cluster['idhm'], 3)}\")"
   ]
  },
  {
   "cell_type": "code",
   "execution_count": 140,
   "metadata": {},
   "outputs": [
    {
     "data": {
      "text/plain": [
       "<matplotlib.axes._subplots.AxesSubplot at 0x7f3f41a52a20>"
      ]
     },
     "metadata": {},
     "output_type": "display_data"
    },
    {
     "data": {
      "image/png": "[encoded data removed]",
      "text/plain": [
       "<Figure size 432x288 with 1 Axes>"
      ]
     },
     "metadata": {
      "needs_background": "light"
     },
     "output_type": "display_data"
    }
   ],
   "source": [
    "temp_df = final_df[final_df.cluster_labels == 4].groupby('cluster_labels').mean()\n",
    "display(temp_df[['IEGM', 'i-Planejamento', 'i-Amb', 'i-Cidade']].plot(kind='bar'))"
   ]
  },
  {
   "cell_type": "markdown",
   "metadata": {},
   "source": [
    "# Cluster 2"
   ]
  },
  {
   "cell_type": "code",
   "execution_count": 141,
   "metadata": {},
   "outputs": [
    {
     "name": "stdout",
     "output_type": "stream",
     "text": [
      "Arrecadação média: 78354039.41, Número de Habitantes médio: 21118.334, IDHM médio: 0.742\n"
     ]
    }
   ],
   "source": [
    "current_cluster = grouped_df.loc[2]\n",
    "print(f\"Arrecadação média: {round(current_cluster['arrecadacao'], 3)}, \" \n",
    "          f\"Número de Habitantes médio: {round(current_cluster['habitantes'], 3)}, \"\n",
    "          f\"IDHM médio: {round(current_cluster['idhm'], 3)}\")"
   ]
  },
  {
   "cell_type": "code",
   "execution_count": 142,
   "metadata": {},
   "outputs": [
    {
     "data": {
      "text/plain": [
       "<matplotlib.axes._subplots.AxesSubplot at 0x7f3f41637908>"
      ]
     },
     "metadata": {},
     "output_type": "display_data"
    },
    {
     "data": {
      "image/png": "[encoded data removed]",
      "text/plain": [
       "<Figure size 432x288 with 1 Axes>"
      ]
     },
     "metadata": {
      "needs_background": "light"
     },
     "output_type": "display_data"
    }
   ],
   "source": [
    "temp_df = final_df[final_df.cluster_labels == 2].groupby('cluster_labels').mean()\n",
    "display(temp_df[['IEGM', 'i-Planejamento', 'i-Amb', 'i-Cidade']].plot(kind='bar'))"
   ]
  },
  {
   "cell_type": "markdown",
   "metadata": {},
   "source": [
    "# Cluster 1"
   ]
  },
  {
   "cell_type": "code",
   "execution_count": 143,
   "metadata": {},
   "outputs": [
    {
     "name": "stdout",
     "output_type": "stream",
     "text": [
      "Arrecadação média: 38353761.633, Número de Habitantes médio: 10812.176, IDHM médio: 0.696\n"
     ]
    }
   ],
   "source": [
    "current_cluster = grouped_df.loc[1]\n",
    "print(f\"Arrecadação média: {round(current_cluster['arrecadacao'], 3)}, \" \n",
    "          f\"Número de Habitantes médio: {round(current_cluster['habitantes'], 3)}, \"\n",
    "          f\"IDHM médio: {round(current_cluster['idhm'], 3)}\")"
   ]
  },
  {
   "cell_type": "code",
   "execution_count": 144,
   "metadata": {},
   "outputs": [
    {
     "data": {
      "text/plain": [
       "<matplotlib.axes._subplots.AxesSubplot at 0x7f3f41ec2470>"
      ]
     },
     "metadata": {},
     "output_type": "display_data"
    },
    {
     "data": {
      "image/png": "[encoded data removed]",
      "text/plain": [
       "<Figure size 432x288 with 1 Axes>"
      ]
     },
     "metadata": {
      "needs_background": "light"
     },
     "output_type": "display_data"
    }
   ],
   "source": [
    "temp_df = final_df[final_df.cluster_labels == 1].groupby('cluster_labels').mean()\n",
    "display(temp_df[['IEGM', 'i-Planejamento', 'i-Amb', 'i-Cidade']].plot(kind='bar'))"
   ]
  },
  {
   "cell_type": "markdown",
   "metadata": {},
   "source": [
    "# O que tirar dessa análise?"
   ]
  },
  {
   "cell_type": "markdown",
   "metadata": {},
   "source": [
    "Primeiramente, é importante colocar que o objetivo de análises como essa não é comparar cidades de maneira competitiva, mas sim observar como a performance do IEG-M se transforma de acordo com a distribuição de outros fatores. Será que cidades menores e menos privilegiadas estão conseguindo caminhar em direção ao ODS 11 assim como as maiores cidades do estado? Essa informação é importante para identificar desafios que possam impedir que o ODS 11 seja amplamente cumprido, e pode nortear políticas públicas, inclusive de repasses de tributos estaduais, para que a adoção seja a mais ampla e democrática possível."
   ]
  },
  {
   "cell_type": "markdown",
   "metadata": {},
   "source": [
    "Notamos, primeiramente, que os índices com melhores performances entre todos são i-Amb e i-Cidade, sendo, na maioria dos clusters, maiores que os outros índices, na média. De maneira geral, também observamos que o i-Planejamento é geralmente o menor entre todos os índices, indicando esse desfalque nas cidades."
   ]
  },
  {
   "cell_type": "markdown",
   "metadata": {},
   "source": [
    "Analisando superficialmente, vemos que, com exceção dos clusters 1 e 2, todos os clusters aparentam manter uma média razoável de todos os índices, que parece estar mais relacionada com o número de habitantes/arrecadação do que com o IDH. No entanto, ao analisar os dois clusters \"menos privilegiados\", vemos que os índices também acabam sendo menores."
   ]
  },
  {
   "cell_type": "markdown",
   "metadata": {},
   "source": [
    "A análise feita aqui ainda é muito superficial, mas podemos usar os clusters como ponto de partida para analisar melhor a correlação entre esses dados, e até criar uma tela do Dashboard para uso interno do TCE ou de autoridades competentes do estado para justamente observar esses dados e tentar compensar de alguma forma a \"dificuldade\" de cidades menores de cumprir com os objetivos do ODS 11."
   ]
  }
 ],
 "metadata": {
  "kernelspec": {
   "display_name": "Python 3",
   "language": "python",
   "name": "python3"
  },
  "language_info": {
   "codemirror_mode": {
    "name": "ipython",
    "version": 3
   },
   "file_extension": ".py",
   "mimetype": "text/x-python",
   "name": "python",
   "nbconvert_exporter": "python",
   "pygments_lexer": "ipython3",
   "version": "3.6.8"
  }
 },
 "nbformat": 4,
 "nbformat_minor": 2
}
