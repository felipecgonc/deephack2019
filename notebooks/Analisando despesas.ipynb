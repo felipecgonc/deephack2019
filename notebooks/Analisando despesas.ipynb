{
 "cells": [
  {
   "cell_type": "code",
   "execution_count": 33,
   "metadata": {},
   "outputs": [],
   "source": [
    "import pandas as pd\n",
    "from IPython.display import display\n",
    "import seaborn as sns\n",
    "from matplotlib import pyplot as plt\n",
    "import nltk\n",
    "import re\n",
    "from os import path\n",
    "from unicodedata import normalize\n",
    "\n",
    "%matplotlib inline"
   ]
  },
  {
   "cell_type": "code",
   "execution_count": 34,
   "metadata": {},
   "outputs": [],
   "source": [
    "# de https://wiki.python.org.br/RemovedorDeAcentos\n",
    "def remover_acentos(txt):\n",
    "    return normalize(\"NFKD\", txt).encode(\"ASCII\", \"ignore\").decode(\"ASCII\")"
   ]
  },
  {
   "cell_type": "code",
   "execution_count": 41,
   "metadata": {},
   "outputs": [],
   "source": [
    "def clean_city_name(txt):\n",
    "    sem_acento = remover_acentos(txt)\n",
    "    clean = re.sub(r\"\\W+\", \"\", sem_acento)\n",
    "    return clean.lower()"
   ]
  },
  {
   "cell_type": "markdown",
   "metadata": {},
   "source": [
    "Separamos os arquivos por cidade para facilitar a leitura:"
   ]
  },
  {
   "cell_type": "code",
   "execution_count": 43,
   "metadata": {},
   "outputs": [
    {
     "name": "stderr",
     "output_type": "stream",
     "text": [
      "/home/felipecgonc/.virtualenvs/deephack/lib/python3.6/site-packages/IPython/core/interactiveshell.py:3058: DtypeWarning: Columns (10) have mixed types. Specify dtype option on import or set low_memory=False.\n",
      "  interactivity=interactivity, compiler=compiler, result=result)\n"
     ]
    }
   ],
   "source": [
    "for chunk_df in pd.read_csv(\n",
    "    \"../data/despesas/despesas-2019.csv\",\n",
    "    sep=\";\",\n",
    "    encoding=\"windows-1254\",\n",
    "    chunksize=1000000,\n",
    "):\n",
    "    city_names = pd.unique(chunk_df[\"ds_municipio\"])\n",
    "    for name in city_names:\n",
    "        city_df = chunk_df[chunk_df.ds_municipio == name]\n",
    "        file_name = f\"despesas-2019-{clean_city_name(name)}.csv\"\n",
    "        while path.exists(file_name):\n",
    "            idx = 2\n",
    "            file_name = file_name.replace(\".csv\", f\"-{idx}.csv\")\n",
    "            idx += 1\n",
    "        city_df.to_csv(f\"../data/despesas/by_city/{file_name}\")"
   ]
  },
  {
   "cell_type": "markdown",
   "metadata": {},
   "source": [
    "Não precisaremos juntar arquivos com *idx*, pois nenhum foi gerado! A pasta apresenta 644 arquivos no total."
   ]
  },
  {
   "cell_type": "code",
   "execution_count": 11,
   "metadata": {
    "scrolled": true
   },
   "outputs": [
    {
     "name": "stderr",
     "output_type": "stream",
     "text": [
      "[nltk_data] Downloading package punkt to\n",
      "[nltk_data]     /home/felipecgonc/nltk_data...\n",
      "[nltk_data]   Package punkt is already up-to-date!\n",
      "[nltk_data] Downloading package stopwords to\n",
      "[nltk_data]     /home/felipecgonc/nltk_data...\n",
      "[nltk_data]   Unzipping corpora/stopwords.zip.\n"
     ]
    },
    {
     "data": {
      "text/plain": [
       "True"
      ]
     },
     "execution_count": 11,
     "metadata": {},
     "output_type": "execute_result"
    }
   ],
   "source": [
    "nltk.download(\"punkt\")\n",
    "nltk.download(\"stopwords\")"
   ]
  },
  {
   "cell_type": "code",
   "execution_count": 121,
   "metadata": {},
   "outputs": [],
   "source": [
    "df_csv = pd.read_csv(f\"../data/despesas/by_city/despesas-2019-campinas.csv\", sep=\",\")"
   ]
  },
  {
   "cell_type": "code",
   "execution_count": 122,
   "metadata": {},
   "outputs": [],
   "source": [
    "df_csv[\"vl_despesa\"] = (\n",
    "    df_csv[\"vl_despesa\"].apply(lambda x: float(x.replace(\",\", \".\"))).astype(float)\n",
    ")"
   ]
  },
  {
   "cell_type": "markdown",
   "metadata": {},
   "source": [
    "Aplicamos um método e uma biblioteca de NLP para definir as palavras mais recorrentes na descrição dos pagamentos."
   ]
  },
  {
   "cell_type": "code",
   "execution_count": 123,
   "metadata": {},
   "outputs": [],
   "source": [
    "top_N = 200\n",
    "df = df_csv[df_csv.ds_municipio == \"Campinas\"]\n",
    "df[\"historico_despesa\"] = df[\"historico_despesa\"].apply(\n",
    "    lambda x: re.sub(r\"\\W+\", \" \", x)\n",
    ")\n",
    "df[\"historico_despesa\"] = df[\"historico_despesa\"].apply(\n",
    "    lambda x: re.sub(r\"^[a-zA-Z]+$\", \" \", x)\n",
    ")\n",
    "txt = df.historico_despesa.str.lower().str.cat(sep=\" \")\n",
    "words = nltk.tokenize.word_tokenize(txt)\n",
    "word_dist = nltk.FreqDist(words)\n",
    "stopwords = nltk.corpus.stopwords.words(\"portuguese\")\n",
    "words_except_stop_dist = nltk.FreqDist(w for w in words if w not in stopwords)\n",
    "rslt = pd.DataFrame(\n",
    "    words_except_stop_dist.most_common(top_N), columns=[\"Word\", \"Frequency\"]\n",
    ")\n",
    "rslt = rslt[rslt.Word.str.isalpha()]"
   ]
  },
  {
   "cell_type": "code",
   "execution_count": 124,
   "metadata": {},
   "outputs": [
    {
     "data": {
      "text/html": [
       "<div>\n",
       "<style scoped>\n",
       "    .dataframe tbody tr th:only-of-type {\n",
       "        vertical-align: middle;\n",
       "    }\n",
       "\n",
       "    .dataframe tbody tr th {\n",
       "        vertical-align: top;\n",
       "    }\n",
       "\n",
       "    .dataframe thead th {\n",
       "        text-align: right;\n",
       "    }\n",
       "</style>\n",
       "<table border=\"1\" class=\"dataframe\">\n",
       "  <thead>\n",
       "    <tr style=\"text-align: right;\">\n",
       "      <th></th>\n",
       "      <th>Word</th>\n",
       "      <th>Frequency</th>\n",
       "    </tr>\n",
       "  </thead>\n",
       "  <tbody>\n",
       "    <tr>\n",
       "      <th>2</th>\n",
       "      <td>nº</td>\n",
       "      <td>21498</td>\n",
       "    </tr>\n",
       "    <tr>\n",
       "      <th>3</th>\n",
       "      <td>prot</td>\n",
       "      <td>20631</td>\n",
       "    </tr>\n",
       "    <tr>\n",
       "      <th>5</th>\n",
       "      <td>empenho</td>\n",
       "      <td>18769</td>\n",
       "    </tr>\n",
       "    <tr>\n",
       "      <th>6</th>\n",
       "      <td>pmc</td>\n",
       "      <td>16227</td>\n",
       "    </tr>\n",
       "    <tr>\n",
       "      <th>7</th>\n",
       "      <td>pagamento</td>\n",
       "      <td>15047</td>\n",
       "    </tr>\n",
       "  </tbody>\n",
       "</table>\n",
       "</div>"
      ],
      "text/plain": [
       "        Word  Frequency\n",
       "2         nº      21498\n",
       "3       prot      20631\n",
       "5    empenho      18769\n",
       "6        pmc      16227\n",
       "7  pagamento      15047"
      ]
     },
     "execution_count": 124,
     "metadata": {},
     "output_type": "execute_result"
    }
   ],
   "source": [
    "rslt.head()"
   ]
  },
  {
   "cell_type": "markdown",
   "metadata": {},
   "source": [
    "Em seguida, definimos as palvras que corresponderão a um gasto relativo ao ODS 11, de acordo com a especificação do mesmo. Notamos que incluímos versões sem acentos das palavras, para garantirmos que as descrições, às vezes feitas à mão, possam ser incluídas de forma mais abrangente possível."
   ]
  },
  {
   "cell_type": "markdown",
   "metadata": {},
   "source": [
    "# Metas do Objetivo 11\n",
    "\n",
    "* **11.1** Até 2030, garantir o acesso de todos a habitação segura, adequada e a preço acessível, e aos serviços básicos e urbanizar as favelas\t\n",
    "* **11.2** Até 2030, proporcionar o acesso a sistemas de transporte seguros, acessíveis, sustentáveis e a preço acessível para todos, melhorando a segurança rodoviária por meio da expansão dos transportes públicos, com especial atenção para as necessidades das pessoas em situação de vulnerabilidade, mulheres, crianças, pessoas com deficiência e idosos\t\n",
    "* **11.3** Até 2030, aumentar a urbanização inclusiva e sustentável, e a capacidade para o planejamento e a gestão participativa, integrada e sustentável dos assentamentos humanos, em todos os países\t\n",
    "* **11.4** Fortalecer esforços para proteger e salvaguardar o patrimônio cultural e natural do mundo\t\n",
    "* **11.5** Até 2030, reduzir significativamente o número de mortes e o número de pessoas afetadas por catástrofes e diminuir substancialmente as perdas econômicas diretas causadas por elas em relação ao produto interno bruto global, incluindo os desastres relacionados à água, com o foco em proteger os pobres e as pessoas em situação de vulnerabilidade\t\n",
    "* **11.6** Até 2030, reduzir o impacto ambiental negativo per capita das cidades, inclusive prestando especial atenção à qualidade do ar, gestão de resíduos municipais e outros\t\n",
    "* **11.7** Até 2030, proporcionar o acesso universal a espaços públicos seguros, inclusivos, acessíveis e verdes, em particular para as mulheres e crianças, pessoas idosas e pessoas com deficiência\t\n",
    "* **11.a** Apoiar relações econômicas, sociais e ambientais positivas entre áreas urbanas, periurbanas e rurais, reforçando o planejamento nacional e regional de desenvolvimento\t\n",
    "* **11.b** Até 2020, aumentar substancialmente o número de cidades e assentamentos humanos adotando e implementando políticas e planos integrados para a inclusão, a eficiência dos recursos, mitigação e adaptação à mudança do clima, a resiliência a desastres; e desenvolver e implementar, de acordo com o Marco de Sendai para a Redução do Risco de Desastres 2015-2030, o gerenciamento holístico do risco de desastres em todos os níveis\t\n",
    "* **11.c** Apoiar os países menos desenvolvidos, inclusive por meio de assistência técnica e financeira, para construções sustentáveis e robustas, utilizando materiais locais"
   ]
  },
  {
   "cell_type": "code",
   "execution_count": 125,
   "metadata": {},
   "outputs": [],
   "source": [
    "ods_11_1 = [\n",
    "    \"habitação\",\n",
    "    \"habitacao\",\n",
    "    \"habitacional\",\n",
    "    \"favelas\",\n",
    "    \"urbano\",\n",
    "    \"urbanização\",\n",
    "    \"urbanismo\",\n",
    "    \"urbanizacao\",\n",
    "    \"favela\",\n",
    "    \"básicos\",\n",
    "]\n",
    "ods_11_2 = [\n",
    "    \"transporte\",\n",
    "    \"metrô\",\n",
    "    \"metro\",\n",
    "    \"onibus\",\n",
    "    \"ônibus\",\n",
    "    \"trem\",\n",
    "    \"vlt\",\n",
    "    \"monotrilho\",\n",
    "    \"bonde\",\n",
    "    \"frota\",\n",
    "    \"trens\",\n",
    "    \"transportes\",\n",
    "]\n",
    "ods_11_3 = [\n",
    "    \"sustentável\",\n",
    "    \"sustentavel\",\n",
    "    \"sustentabilidade\",\n",
    "    \"participativo\",\n",
    "    \"participativa\",\n",
    "    \"assentamentos\",\n",
    "]\n",
    "ods_11_4 = [\n",
    "    \"partimônio\",\n",
    "    \"cultura\",\n",
    "    \"restauração\",\n",
    "    \"patrimonio\",\n",
    "    \"restauracao\",\n",
    "    \"reserva\",\n",
    "    \"natural\",\n",
    "    \"natureza\",\n",
    "    \"cultural\",\n",
    "    \"patrimonial\",\n",
    "    \"meio-ambiente\",\n",
    "]\n",
    "ods_11_5 = [\n",
    "    \"mortalidade\",\n",
    "    \"catástrofe\",\n",
    "    \"catastrofe\",\n",
    "    \"catástrofes\",\n",
    "    \"catastrofes\",\n",
    "    \"acidente\",\n",
    "    \"acidentes\",\n",
    "    \"enchentes\",\n",
    "    \"enchente\",\n",
    "    \"deslizamento\",\n",
    "    \"desastre\",\n",
    "    \"desastres\",\n",
    "    \"chuva\",\n",
    "    \"chuvas\",\n",
    "    \"barragem\",\n",
    "    \"contaminação\",\n",
    "    \"despoluição\",\n",
    "    \"contaminacao\",\n",
    "    \"despoulicao\",\n",
    "    \"contaminado\",\n",
    "    \"contaminada\",\n",
    "]\n",
    "ods_11_6 = [\n",
    "    \"ar\",\n",
    "    \"poluição\",\n",
    "    \"resíduos\",\n",
    "    \"poluicao\",\n",
    "    \"residuos\",\n",
    "    \"esgoto\",\n",
    "    \"esgotos\",\n",
    "    \"saneamento\",\n",
    "    \"coleta\",\n",
    "    \"lixo\",\n",
    "    \"lixão\",\n",
    "    \"lixao\",\n",
    "    \"lixoes\",\n",
    "    \"lixões\",\n",
    "    \"aterro\",\n",
    "    \"aterros\",\n",
    "    \"reciclagem\",\n",
    "    \"reciclado\",\n",
    "    \"recicla\",\n",
    "    \"descarte\",\n",
    "]\n",
    "ods_11_7 = [\n",
    "    \"espaço\",\n",
    "    \"espaco\",\n",
    "    \"acessível\",\n",
    "    \"acessibilidade\",\n",
    "    \"convivência\",\n",
    "    \"convivencia\",\n",
    "    \"conviver\",\n",
    "    \"acessivel\",\n",
    "    \"cadeirante\",\n",
    "    \"cego\",\n",
    "    \"deficiente\",\n",
    "    \"deficientes\",\n",
    "    \"deficiencia\",\n",
    "    \"deficiência\",\n",
    "    \"idoso\",\n",
    "    \"idosos\",\n",
    "    \"idosa\",\n",
    "    \"mulher\",\n",
    "    \"mulheres\",\n",
    "    \"verde\",\n",
    "    \"verdes\",\n",
    "]\n",
    "ods_11_a = [\"rural\", \"campo\", \"periurbana\"]\n",
    "ods_11_b = [\n",
    "    \"eficiência\",\n",
    "    \"eficiencia\",\n",
    "    \"clima\",\n",
    "    \"climático\",\n",
    "    \"climatico\",\n",
    "    \"aquecimento\",\n",
    "    \"sendai\",\n",
    "]\n",
    "ods_11_c = []\n",
    "\n",
    "ods_11 = (\n",
    "    ods_11_1\n",
    "    + ods_11_2\n",
    "    + ods_11_3\n",
    "    + ods_11_4\n",
    "    + ods_11_5\n",
    "    + ods_11_6\n",
    "    + ods_11_7\n",
    "    + ods_11_a\n",
    "    + ods_11_b\n",
    "    + ods_11_c\n",
    ")"
   ]
  },
  {
   "cell_type": "markdown",
   "metadata": {},
   "source": [
    "Em seguida, checamos quais das palavras mais presentes nas despesas correspondem a um gasto relativo à meta do ODS 11."
   ]
  },
  {
   "cell_type": "code",
   "execution_count": 126,
   "metadata": {},
   "outputs": [],
   "source": [
    "rslt[\"ods\"] = rslt[\"Word\"].apply(lambda x: x in ods_11)"
   ]
  },
  {
   "cell_type": "code",
   "execution_count": 127,
   "metadata": {},
   "outputs": [],
   "source": [
    "ods_rslt = rslt[rslt.ods]"
   ]
  },
  {
   "cell_type": "markdown",
   "metadata": {},
   "source": [
    "E colocamos as palavras que efetivamente foram encontradas em uma lista."
   ]
  },
  {
   "cell_type": "code",
   "execution_count": 128,
   "metadata": {},
   "outputs": [],
   "source": [
    "ods_list = list(ods_rslt[\"Word\"])"
   ]
  },
  {
   "cell_type": "markdown",
   "metadata": {},
   "source": [
    "Em seguida, achamos esses gastos no DataFrame original, para determinarmos o valor total gasto com o ODS 11."
   ]
  },
  {
   "cell_type": "code",
   "execution_count": 120,
   "metadata": {},
   "outputs": [],
   "source": [
    "def is_ods(txt, ods_list):\n",
    "    is_ods = False\n",
    "    for ods in ods_list:\n",
    "        if ods in txt:\n",
    "            is_ods = True\n",
    "    return is_ods"
   ]
  },
  {
   "cell_type": "code",
   "execution_count": 129,
   "metadata": {},
   "outputs": [],
   "source": [
    "df_csv[\"is_ods\"] = df_csv[\"historico_despesa\"].apply(lambda x: is_ods(x, ods_list))"
   ]
  },
  {
   "cell_type": "code",
   "execution_count": 131,
   "metadata": {},
   "outputs": [],
   "source": [
    "df_ods = df_csv[df_csv.is_ods]"
   ]
  },
  {
   "cell_type": "code",
   "execution_count": 133,
   "metadata": {},
   "outputs": [],
   "source": [
    "# Soma total gasta com ODS\n",
    "ods_sum = sum(df_ods[\"vl_despesa\"])\n",
    "\n",
    "# Soma total\n",
    "total_sum = sum(df_csv[\"vl_despesa\"])"
   ]
  },
  {
   "cell_type": "markdown",
   "metadata": {},
   "source": [
    "O valor gasto com o ODS 11 foi de:"
   ]
  },
  {
   "cell_type": "code",
   "execution_count": 134,
   "metadata": {},
   "outputs": [
    {
     "data": {
      "text/plain": [
       "120674605.77999994"
      ]
     },
     "execution_count": 134,
     "metadata": {},
     "output_type": "execute_result"
    }
   ],
   "source": [
    "ods_sum"
   ]
  },
  {
   "cell_type": "markdown",
   "metadata": {},
   "source": [
    "Que corresponde a: % do gasto"
   ]
  },
  {
   "cell_type": "code",
   "execution_count": 135,
   "metadata": {},
   "outputs": [
    {
     "data": {
      "text/plain": [
       "1.0999999999999999"
      ]
     },
     "execution_count": 135,
     "metadata": {},
     "output_type": "execute_result"
    }
   ],
   "source": [
    "round(ods_sum / total_sum, 3) * 100"
   ]
  },
  {
   "cell_type": "markdown",
   "metadata": {},
   "source": [
    "Tendo a metodologia estabelecida, transformamos essa visualização em uma tela do Dashboard usando o streamlit."
   ]
  }
 ],
 "metadata": {
  "kernelspec": {
   "display_name": "Python 3",
   "language": "python",
   "name": "python3"
  },
  "language_info": {
   "codemirror_mode": {
    "name": "ipython",
    "version": 3
   },
   "file_extension": ".py",
   "mimetype": "text/x-python",
   "name": "python",
   "nbconvert_exporter": "python",
   "pygments_lexer": "ipython3",
   "version": "3.6.8"
  }
 },
 "nbformat": 4,
 "nbformat_minor": 2
}
