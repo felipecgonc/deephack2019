{
 "cells": [
  {
   "cell_type": "code",
   "execution_count": 271,
   "metadata": {},
   "outputs": [],
   "source": [
    "import pandas as pd\n",
    "from functools import reduce"
   ]
  },
  {
   "cell_type": "markdown",
   "metadata": {},
   "source": [
    "Vamos clusterizar cidades baseados em número de habitantes, arrecadação e IDH, para que possamos usar dados de cidades similares para construir modelos."
   ]
  },
  {
   "cell_type": "markdown",
   "metadata": {},
   "source": [
    "# Passo 1: construção da base de dados"
   ]
  },
  {
   "cell_type": "markdown",
   "metadata": {},
   "source": [
    "_OBS: Se você já rodou esse passo uma vez e gerou a base de dados em .csv na pasta **data/**, já pode pular para o segundo passo!_"
   ]
  },
  {
   "cell_type": "markdown",
   "metadata": {},
   "source": [
    "Primeiramente, carregamos e extraímos os dados de arrecadação do TCE-SP. Disponíveis [nesse link](https://transparencia.tce.sp.gov.br/conjunto-de-dados), em _Receitas_. Vamos nos basear no ano de 2018, pois o ano de 2019 ainda está incompleto."
   ]
  },
  {
   "cell_type": "code",
   "execution_count": 233,
   "metadata": {},
   "outputs": [],
   "source": [
    "receitas_df = pd.read_csv(\"../data/receitas/receitas-2018.csv\", sep=\";\", encoding=\"windows-1254\")"
   ]
  },
  {
   "cell_type": "code",
   "execution_count": 234,
   "metadata": {},
   "outputs": [],
   "source": [
    "receitas_df[\"vl_arrecadacao\"] = (\n",
    "    receitas_df[\"vl_arrecadacao\"]\n",
    "    .apply(lambda x: float(x.replace(\",\", \".\")))\n",
    "    .astype(float)\n",
    ")"
   ]
  },
  {
   "cell_type": "code",
   "execution_count": 235,
   "metadata": {},
   "outputs": [],
   "source": [
    "arrecadacao_df = (\n",
    "    receitas_df[[\"ds_municipio\", \"vl_arrecadacao\"]]\n",
    "    .groupby(\"ds_municipio\")\n",
    "    .sum()\n",
    "    .reset_index()\n",
    ")"
   ]
  },
  {
   "cell_type": "code",
   "execution_count": 236,
   "metadata": {},
   "outputs": [],
   "source": [
    "arrecadacao_df = arrecadacao_df.rename(\n",
    "    columns={\"ds_municipio\": \"municipio\", \"vl_arrecadacao\": \"arrecadacao\"}\n",
    ")"
   ]
  },
  {
   "cell_type": "code",
   "execution_count": 237,
   "metadata": {},
   "outputs": [
    {
     "data": {
      "text/html": [
       "<div>\n",
       "<style scoped>\n",
       "    .dataframe tbody tr th:only-of-type {\n",
       "        vertical-align: middle;\n",
       "    }\n",
       "\n",
       "    .dataframe tbody tr th {\n",
       "        vertical-align: top;\n",
       "    }\n",
       "\n",
       "    .dataframe thead th {\n",
       "        text-align: right;\n",
       "    }\n",
       "</style>\n",
       "<table border=\"1\" class=\"dataframe\">\n",
       "  <thead>\n",
       "    <tr style=\"text-align: right;\">\n",
       "      <th></th>\n",
       "      <th>municipio</th>\n",
       "      <th>arrecadacao</th>\n",
       "    </tr>\n",
       "  </thead>\n",
       "  <tbody>\n",
       "    <tr>\n",
       "      <th>0</th>\n",
       "      <td>Adamantina</td>\n",
       "      <td>1.668520e+08</td>\n",
       "    </tr>\n",
       "    <tr>\n",
       "      <th>1</th>\n",
       "      <td>Adolfo</td>\n",
       "      <td>2.581124e+07</td>\n",
       "    </tr>\n",
       "    <tr>\n",
       "      <th>2</th>\n",
       "      <td>Aguaí</td>\n",
       "      <td>8.606935e+07</td>\n",
       "    </tr>\n",
       "    <tr>\n",
       "      <th>3</th>\n",
       "      <td>Agudos</td>\n",
       "      <td>1.493109e+08</td>\n",
       "    </tr>\n",
       "    <tr>\n",
       "      <th>4</th>\n",
       "      <td>Alambari</td>\n",
       "      <td>2.307959e+07</td>\n",
       "    </tr>\n",
       "  </tbody>\n",
       "</table>\n",
       "</div>"
      ],
      "text/plain": [
       "    municipio   arrecadacao\n",
       "0  Adamantina  1.668520e+08\n",
       "1      Adolfo  2.581124e+07\n",
       "2       Aguaí  8.606935e+07\n",
       "3      Agudos  1.493109e+08\n",
       "4    Alambari  2.307959e+07"
      ]
     },
     "execution_count": 237,
     "metadata": {},
     "output_type": "execute_result"
    }
   ],
   "source": [
    "arrecadacao_df.head()"
   ]
  },
  {
   "cell_type": "markdown",
   "metadata": {},
   "source": [
    "Em seguida, pegamos os dados demográficos de bases variadas."
   ]
  },
  {
   "cell_type": "markdown",
   "metadata": {},
   "source": [
    "Para os dados de número de habitantes, temos disponíveis informações do Censo de 2010 [nesse link](http://catalogo.governoaberto.sp.gov.br/dataset/mapa-paulista-da-gestao-documental-e-acesso-a-informacao)."
   ]
  },
  {
   "cell_type": "code",
   "execution_count": 238,
   "metadata": {},
   "outputs": [],
   "source": [
    "demografia_df = pd.read_csv(\n",
    "    \"../random/data/gestao_documental_paulista_prefeituras.csv\",\n",
    "    sep=\";\",\n",
    "    encoding=\"windows-1254\",\n",
    ")"
   ]
  },
  {
   "cell_type": "code",
   "execution_count": 239,
   "metadata": {},
   "outputs": [],
   "source": [
    "demografia_df = demografia_df[[\"Município\", \"Número de Habitantes (em 2010)\"]]"
   ]
  },
  {
   "cell_type": "code",
   "execution_count": 240,
   "metadata": {},
   "outputs": [],
   "source": [
    "demografia_df = demografia_df.rename(\n",
    "    columns={\"Município\": \"municipio\", \"Número de Habitantes (em 2010)\": \"habitantes\"}\n",
    ")"
   ]
  },
  {
   "cell_type": "code",
   "execution_count": 241,
   "metadata": {},
   "outputs": [],
   "source": [
    "demografia_df[\"habitantes\"] = (\n",
    "    demografia_df[\"habitantes\"].apply(lambda x: float(x.replace(\".\", \"\"))).astype(float)\n",
    ")"
   ]
  },
  {
   "cell_type": "markdown",
   "metadata": {},
   "source": [
    "Por fim, removemos a capital para se adequar à base do TCE:"
   ]
  },
  {
   "cell_type": "code",
   "execution_count": 242,
   "metadata": {},
   "outputs": [],
   "source": [
    "demografia_df = demografia_df[demografia_df.municipio != \"São Paulo\"]"
   ]
  },
  {
   "cell_type": "code",
   "execution_count": 243,
   "metadata": {},
   "outputs": [
    {
     "data": {
      "text/html": [
       "<div>\n",
       "<style scoped>\n",
       "    .dataframe tbody tr th:only-of-type {\n",
       "        vertical-align: middle;\n",
       "    }\n",
       "\n",
       "    .dataframe tbody tr th {\n",
       "        vertical-align: top;\n",
       "    }\n",
       "\n",
       "    .dataframe thead th {\n",
       "        text-align: right;\n",
       "    }\n",
       "</style>\n",
       "<table border=\"1\" class=\"dataframe\">\n",
       "  <thead>\n",
       "    <tr style=\"text-align: right;\">\n",
       "      <th></th>\n",
       "      <th>municipio</th>\n",
       "      <th>habitantes</th>\n",
       "    </tr>\n",
       "  </thead>\n",
       "  <tbody>\n",
       "    <tr>\n",
       "      <th>0</th>\n",
       "      <td>Adamantina</td>\n",
       "      <td>33797.0</td>\n",
       "    </tr>\n",
       "    <tr>\n",
       "      <th>1</th>\n",
       "      <td>Adolfo</td>\n",
       "      <td>3557.0</td>\n",
       "    </tr>\n",
       "    <tr>\n",
       "      <th>2</th>\n",
       "      <td>Aguaí</td>\n",
       "      <td>32148.0</td>\n",
       "    </tr>\n",
       "    <tr>\n",
       "      <th>3</th>\n",
       "      <td>Águas da Prata</td>\n",
       "      <td>7584.0</td>\n",
       "    </tr>\n",
       "    <tr>\n",
       "      <th>4</th>\n",
       "      <td>Águas de Lindóia</td>\n",
       "      <td>17266.0</td>\n",
       "    </tr>\n",
       "  </tbody>\n",
       "</table>\n",
       "</div>"
      ],
      "text/plain": [
       "          municipio  habitantes\n",
       "0        Adamantina     33797.0\n",
       "1            Adolfo      3557.0\n",
       "2             Aguaí     32148.0\n",
       "3    Águas da Prata      7584.0\n",
       "4  Águas de Lindóia     17266.0"
      ]
     },
     "execution_count": 243,
     "metadata": {},
     "output_type": "execute_result"
    }
   ],
   "source": [
    "demografia_df.head()"
   ]
  },
  {
   "cell_type": "code",
   "execution_count": 244,
   "metadata": {},
   "outputs": [
    {
     "data": {
      "text/plain": [
       "644"
      ]
     },
     "execution_count": 244,
     "metadata": {},
     "output_type": "execute_result"
    }
   ],
   "source": [
    "len(demografia_df)"
   ]
  },
  {
   "cell_type": "markdown",
   "metadata": {},
   "source": [
    "Para os dados do IDHM, consultamos a base disponível do Atlas de Desenvolvimento Humano do Brasil, de 2013, disponível [nesse link](http://atlasbrasil.org.br/2013/pt/download/)."
   ]
  },
  {
   "cell_type": "code",
   "execution_count": 245,
   "metadata": {},
   "outputs": [],
   "source": [
    "idhm_xls = pd.ExcelFile(\"../data/random/atlas2013_dadosbrutos_pt.xlsx\")"
   ]
  },
  {
   "cell_type": "code",
   "execution_count": 246,
   "metadata": {},
   "outputs": [],
   "source": [
    "idhm_df = pd.read_excel(idhm_xls, \"MUN 91-00-10\", encoding=\"windows-1254\")"
   ]
  },
  {
   "cell_type": "code",
   "execution_count": 247,
   "metadata": {},
   "outputs": [
    {
     "data": {
      "text/html": [
       "<div>\n",
       "<style scoped>\n",
       "    .dataframe tbody tr th:only-of-type {\n",
       "        vertical-align: middle;\n",
       "    }\n",
       "\n",
       "    .dataframe tbody tr th {\n",
       "        vertical-align: top;\n",
       "    }\n",
       "\n",
       "    .dataframe thead th {\n",
       "        text-align: right;\n",
       "    }\n",
       "</style>\n",
       "<table border=\"1\" class=\"dataframe\">\n",
       "  <thead>\n",
       "    <tr style=\"text-align: right;\">\n",
       "      <th></th>\n",
       "      <th>ANO</th>\n",
       "      <th>UF</th>\n",
       "      <th>Codmun6</th>\n",
       "      <th>Codmun7</th>\n",
       "      <th>Município</th>\n",
       "      <th>ESPVIDA</th>\n",
       "      <th>FECTOT</th>\n",
       "      <th>MORT1</th>\n",
       "      <th>MORT5</th>\n",
       "      <th>RAZDEP</th>\n",
       "      <th>...</th>\n",
       "      <th>PIA1517</th>\n",
       "      <th>PIA18M</th>\n",
       "      <th>POP</th>\n",
       "      <th>POPT</th>\n",
       "      <th>I_ESCOLARIDADE</th>\n",
       "      <th>I_FREQ_PROP</th>\n",
       "      <th>IDHM</th>\n",
       "      <th>IDHM_E</th>\n",
       "      <th>IDHM_L</th>\n",
       "      <th>IDHM_R</th>\n",
       "    </tr>\n",
       "  </thead>\n",
       "  <tbody>\n",
       "    <tr>\n",
       "      <th>0</th>\n",
       "      <td>1991</td>\n",
       "      <td>11</td>\n",
       "      <td>110001</td>\n",
       "      <td>1100015</td>\n",
       "      <td>ALTA FLORESTA D'OESTE</td>\n",
       "      <td>62.01</td>\n",
       "      <td>4.08</td>\n",
       "      <td>45.58</td>\n",
       "      <td>58.05</td>\n",
       "      <td>73.50</td>\n",
       "      <td>...</td>\n",
       "      <td>NaN</td>\n",
       "      <td>NaN</td>\n",
       "      <td>23417</td>\n",
       "      <td>22835</td>\n",
       "      <td>0.117</td>\n",
       "      <td>0.109</td>\n",
       "      <td>0.329</td>\n",
       "      <td>0.112</td>\n",
       "      <td>0.617</td>\n",
       "      <td>0.516</td>\n",
       "    </tr>\n",
       "    <tr>\n",
       "      <th>1</th>\n",
       "      <td>1991</td>\n",
       "      <td>11</td>\n",
       "      <td>110002</td>\n",
       "      <td>1100023</td>\n",
       "      <td>ARIQUEMES</td>\n",
       "      <td>66.02</td>\n",
       "      <td>3.72</td>\n",
       "      <td>32.39</td>\n",
       "      <td>41.41</td>\n",
       "      <td>69.97</td>\n",
       "      <td>...</td>\n",
       "      <td>NaN</td>\n",
       "      <td>NaN</td>\n",
       "      <td>56061</td>\n",
       "      <td>55018</td>\n",
       "      <td>0.200</td>\n",
       "      <td>0.199</td>\n",
       "      <td>0.432</td>\n",
       "      <td>0.199</td>\n",
       "      <td>0.684</td>\n",
       "      <td>0.593</td>\n",
       "    </tr>\n",
       "    <tr>\n",
       "      <th>2</th>\n",
       "      <td>1991</td>\n",
       "      <td>11</td>\n",
       "      <td>110003</td>\n",
       "      <td>1100031</td>\n",
       "      <td>CABIXI</td>\n",
       "      <td>63.16</td>\n",
       "      <td>3.89</td>\n",
       "      <td>41.52</td>\n",
       "      <td>52.94</td>\n",
       "      <td>77.23</td>\n",
       "      <td>...</td>\n",
       "      <td>NaN</td>\n",
       "      <td>NaN</td>\n",
       "      <td>7601</td>\n",
       "      <td>5846</td>\n",
       "      <td>0.111</td>\n",
       "      <td>0.106</td>\n",
       "      <td>0.309</td>\n",
       "      <td>0.108</td>\n",
       "      <td>0.636</td>\n",
       "      <td>0.430</td>\n",
       "    </tr>\n",
       "    <tr>\n",
       "      <th>3</th>\n",
       "      <td>1991</td>\n",
       "      <td>11</td>\n",
       "      <td>110004</td>\n",
       "      <td>1100049</td>\n",
       "      <td>CACOAL</td>\n",
       "      <td>65.03</td>\n",
       "      <td>3.81</td>\n",
       "      <td>35.37</td>\n",
       "      <td>45.19</td>\n",
       "      <td>71.11</td>\n",
       "      <td>...</td>\n",
       "      <td>NaN</td>\n",
       "      <td>NaN</td>\n",
       "      <td>69173</td>\n",
       "      <td>66534</td>\n",
       "      <td>0.176</td>\n",
       "      <td>0.169</td>\n",
       "      <td>0.407</td>\n",
       "      <td>0.171</td>\n",
       "      <td>0.667</td>\n",
       "      <td>0.593</td>\n",
       "    </tr>\n",
       "    <tr>\n",
       "      <th>4</th>\n",
       "      <td>1991</td>\n",
       "      <td>11</td>\n",
       "      <td>110005</td>\n",
       "      <td>1100056</td>\n",
       "      <td>CEREJEIRAS</td>\n",
       "      <td>62.73</td>\n",
       "      <td>3.55</td>\n",
       "      <td>43.00</td>\n",
       "      <td>54.82</td>\n",
       "      <td>71.09</td>\n",
       "      <td>...</td>\n",
       "      <td>NaN</td>\n",
       "      <td>NaN</td>\n",
       "      <td>19451</td>\n",
       "      <td>19030</td>\n",
       "      <td>0.152</td>\n",
       "      <td>0.175</td>\n",
       "      <td>0.386</td>\n",
       "      <td>0.167</td>\n",
       "      <td>0.629</td>\n",
       "      <td>0.547</td>\n",
       "    </tr>\n",
       "  </tbody>\n",
       "</table>\n",
       "<p>5 rows × 237 columns</p>\n",
       "</div>"
      ],
      "text/plain": [
       "    ANO  UF  Codmun6  Codmun7              Município  ESPVIDA  FECTOT  MORT1  \\\n",
       "0  1991  11   110001  1100015  ALTA FLORESTA D'OESTE    62.01    4.08  45.58   \n",
       "1  1991  11   110002  1100023              ARIQUEMES    66.02    3.72  32.39   \n",
       "2  1991  11   110003  1100031                 CABIXI    63.16    3.89  41.52   \n",
       "3  1991  11   110004  1100049                 CACOAL    65.03    3.81  35.37   \n",
       "4  1991  11   110005  1100056             CEREJEIRAS    62.73    3.55  43.00   \n",
       "\n",
       "   MORT5  RAZDEP  ...  PIA1517  PIA18M    POP   POPT  I_ESCOLARIDADE  \\\n",
       "0  58.05   73.50  ...      NaN     NaN  23417  22835           0.117   \n",
       "1  41.41   69.97  ...      NaN     NaN  56061  55018           0.200   \n",
       "2  52.94   77.23  ...      NaN     NaN   7601   5846           0.111   \n",
       "3  45.19   71.11  ...      NaN     NaN  69173  66534           0.176   \n",
       "4  54.82   71.09  ...      NaN     NaN  19451  19030           0.152   \n",
       "\n",
       "   I_FREQ_PROP   IDHM  IDHM_E  IDHM_L  IDHM_R  \n",
       "0        0.109  0.329   0.112   0.617   0.516  \n",
       "1        0.199  0.432   0.199   0.684   0.593  \n",
       "2        0.106  0.309   0.108   0.636   0.430  \n",
       "3        0.169  0.407   0.171   0.667   0.593  \n",
       "4        0.175  0.386   0.167   0.629   0.547  \n",
       "\n",
       "[5 rows x 237 columns]"
      ]
     },
     "execution_count": 247,
     "metadata": {},
     "output_type": "execute_result"
    }
   ],
   "source": [
    "idhm_df.head()"
   ]
  },
  {
   "cell_type": "markdown",
   "metadata": {},
   "source": [
    "Como podemos observar em outra planilha do .xlsx, o código de UF para o estado de São Paulo é **35**. Além disso, selecionamos os dados mais recentes, de 2010."
   ]
  },
  {
   "cell_type": "code",
   "execution_count": 248,
   "metadata": {},
   "outputs": [],
   "source": [
    "idhm_df = idhm_df[(idhm_df.UF == 35) & (idhm_df.ANO == 2010)].reset_index()"
   ]
  },
  {
   "cell_type": "code",
   "execution_count": 249,
   "metadata": {},
   "outputs": [],
   "source": [
    "idhm_df = idhm_df[[\"Município\", \"IDHM\"]]"
   ]
  },
  {
   "cell_type": "code",
   "execution_count": 250,
   "metadata": {},
   "outputs": [],
   "source": [
    "idhm_df = idhm_df.rename(columns={\"Município\": \"municipio\", \"IDHM\": \"idhm\"})"
   ]
  },
  {
   "cell_type": "markdown",
   "metadata": {},
   "source": [
    "Função auxiliar para adequar nomes de municípios:"
   ]
  },
  {
   "cell_type": "code",
   "execution_count": 251,
   "metadata": {},
   "outputs": [],
   "source": [
    "def correctly_capitalize_city_name(name):\n",
    "    name = name.lower()\n",
    "    prepositions = [\n",
    "        \"a\",\n",
    "        \"o\",\n",
    "        \"as\",\n",
    "        \"os\",\n",
    "        \"com\",\n",
    "        \"de\",\n",
    "        \"da\",\n",
    "        \"do\",\n",
    "        \"das\",\n",
    "        \"dos\",\n",
    "        \"ao\",\n",
    "        \"para\",\n",
    "        \"entre\",\n",
    "        \"nas\",\n",
    "        \"nos\",\n",
    "        \"aos\",\n",
    "    ]\n",
    "    name_list = name.split(\" \")\n",
    "    for idx, word in enumerate(name_list):\n",
    "        if word not in prepositions:\n",
    "            if \"-\" in word:\n",
    "                word = \"-\".join([part.capitalize() for part in word.split(\"-\")])\n",
    "            else:\n",
    "                word = word.capitalize()\n",
    "            name_list[idx] = word\n",
    "    return (\" \").join(name_list)"
   ]
  },
  {
   "cell_type": "code",
   "execution_count": 252,
   "metadata": {},
   "outputs": [],
   "source": [
    "idhm_df[\"municipio\"] = idhm_df[\"municipio\"].apply(correctly_capitalize_city_name)"
   ]
  },
  {
   "cell_type": "markdown",
   "metadata": {},
   "source": [
    "Por fim, removemos a capital para se adequar à base do TCE:"
   ]
  },
  {
   "cell_type": "code",
   "execution_count": 253,
   "metadata": {},
   "outputs": [],
   "source": [
    "idhm_df = idhm_df[idhm_df.municipio != \"São Paulo\"]"
   ]
  },
  {
   "cell_type": "code",
   "execution_count": 254,
   "metadata": {
    "scrolled": false
   },
   "outputs": [
    {
     "data": {
      "text/html": [
       "<div>\n",
       "<style scoped>\n",
       "    .dataframe tbody tr th:only-of-type {\n",
       "        vertical-align: middle;\n",
       "    }\n",
       "\n",
       "    .dataframe tbody tr th {\n",
       "        vertical-align: top;\n",
       "    }\n",
       "\n",
       "    .dataframe thead th {\n",
       "        text-align: right;\n",
       "    }\n",
       "</style>\n",
       "<table border=\"1\" class=\"dataframe\">\n",
       "  <thead>\n",
       "    <tr style=\"text-align: right;\">\n",
       "      <th></th>\n",
       "      <th>municipio</th>\n",
       "      <th>idhm</th>\n",
       "    </tr>\n",
       "  </thead>\n",
       "  <tbody>\n",
       "    <tr>\n",
       "      <th>0</th>\n",
       "      <td>Adamantina</td>\n",
       "      <td>0.790</td>\n",
       "    </tr>\n",
       "    <tr>\n",
       "      <th>1</th>\n",
       "      <td>Adolfo</td>\n",
       "      <td>0.730</td>\n",
       "    </tr>\n",
       "    <tr>\n",
       "      <th>2</th>\n",
       "      <td>Aguaí</td>\n",
       "      <td>0.715</td>\n",
       "    </tr>\n",
       "    <tr>\n",
       "      <th>3</th>\n",
       "      <td>Águas da Prata</td>\n",
       "      <td>0.781</td>\n",
       "    </tr>\n",
       "    <tr>\n",
       "      <th>4</th>\n",
       "      <td>Águas de Lindóia</td>\n",
       "      <td>0.745</td>\n",
       "    </tr>\n",
       "  </tbody>\n",
       "</table>\n",
       "</div>"
      ],
      "text/plain": [
       "          municipio   idhm\n",
       "0        Adamantina  0.790\n",
       "1            Adolfo  0.730\n",
       "2             Aguaí  0.715\n",
       "3    Águas da Prata  0.781\n",
       "4  Águas de Lindóia  0.745"
      ]
     },
     "execution_count": 254,
     "metadata": {},
     "output_type": "execute_result"
    }
   ],
   "source": [
    "idhm_df.head()"
   ]
  },
  {
   "cell_type": "markdown",
   "metadata": {},
   "source": [
    "Ajustando discrepância de dados entre as bases:"
   ]
  },
  {
   "cell_type": "code",
   "execution_count": 255,
   "metadata": {},
   "outputs": [],
   "source": [
    "idhm_df.at[\n",
    "    (idhm_df[idhm_df.municipio == \"Embu\"].index[0]), \"municipio\"\n",
    "] = \"Embu das Artes\""
   ]
  },
  {
   "cell_type": "code",
   "execution_count": 256,
   "metadata": {},
   "outputs": [],
   "source": [
    "idhm_df.at[\n",
    "    (idhm_df[idhm_df.municipio == \"Moji Mirim\"].index[0]), \"municipio\"\n",
    "] = \"Mogi Mirim\""
   ]
  },
  {
   "cell_type": "code",
   "execution_count": 257,
   "metadata": {},
   "outputs": [],
   "source": [
    "idhm_df.at[\n",
    "    (idhm_df[idhm_df.municipio == \"São Luís do Paraitinga\"].index[0]), \"municipio\"\n",
    "] = \"São Luiz do Paraitinga\""
   ]
  },
  {
   "cell_type": "code",
   "execution_count": 258,
   "metadata": {},
   "outputs": [],
   "source": [
    "idhm_df[\"municipio\"] = idhm_df[\"municipio\"].apply(\n",
    "    lambda x: x.replace(\"D'oeste\", \"D'Oeste\")\n",
    ")"
   ]
  },
  {
   "cell_type": "code",
   "execution_count": 259,
   "metadata": {},
   "outputs": [],
   "source": [
    "idhm_df[\"municipio\"] = idhm_df[\"municipio\"].apply(\n",
    "    lambda x: x.replace(\"D'alho\", \"D'Alho\")\n",
    ")"
   ]
  },
  {
   "cell_type": "code",
   "execution_count": 260,
   "metadata": {},
   "outputs": [],
   "source": [
    "arrecadacao_df.at[\n",
    "    (arrecadacao_df[arrecadacao_df.municipio == \"São Luís do Paraitinga\"].index[0]),\n",
    "    \"municipio\",\n",
    "] = \"São Luiz do Paraitinga\""
   ]
  },
  {
   "cell_type": "code",
   "execution_count": 261,
   "metadata": {},
   "outputs": [],
   "source": [
    "arrecadacao_df[\"municipio\"] = arrecadacao_df[\"municipio\"].apply(\n",
    "    lambda x: x.replace(\"d Oeste\", \"D'Oeste\")\n",
    ")"
   ]
  },
  {
   "cell_type": "code",
   "execution_count": 262,
   "metadata": {},
   "outputs": [],
   "source": [
    "arrecadacao_df[\"municipio\"] = arrecadacao_df[\"municipio\"].apply(\n",
    "    lambda x: x.replace(\"d Alho\", \"D'Alho\")\n",
    ")"
   ]
  },
  {
   "cell_type": "code",
   "execution_count": 263,
   "metadata": {},
   "outputs": [],
   "source": [
    "demografia_df[\"municipio\"] = demografia_df[\"municipio\"].apply(\n",
    "    lambda x: x.replace(\"d'Oeste\", \"D'Oeste\")\n",
    ")"
   ]
  },
  {
   "cell_type": "code",
   "execution_count": 264,
   "metadata": {},
   "outputs": [],
   "source": [
    "demografia_df[\"municipio\"] = demografia_df[\"municipio\"].apply(\n",
    "    lambda x: x.replace(\"d'Alho\", \"D'Alho\")\n",
    ")"
   ]
  },
  {
   "cell_type": "code",
   "execution_count": 265,
   "metadata": {
    "scrolled": true
   },
   "outputs": [
    {
     "name": "stdout",
     "output_type": "stream",
     "text": [
      "Todos os nomes de municípios são iguais.\n",
      "DADOS ESTÃO LIMPOS!\n"
     ]
    }
   ],
   "source": [
    "if not any(\n",
    "    [\n",
    "        (set(demografia_df.municipio) - set(arrecadacao_df.municipio)),\n",
    "        (set(arrecadacao_df.municipio) - set(demografia_df.municipio)),\n",
    "        (set(idhm_df.municipio) - set(demografia_df.municipio)),\n",
    "        (set(demografia_df.municipio) - set(idhm_df.municipio)),\n",
    "        (set(arrecadacao_df.municipio) - set(demografia_df.municipio)),\n",
    "        (set(demografia_df.municipio) - set(arrecadacao_df.municipio)),\n",
    "    ]\n",
    "):\n",
    "    print(\"Todos os nomes de municípios são iguais.\")\n",
    "    print(\"DADOS ESTÃO LIMPOS!\")"
   ]
  },
  {
   "cell_type": "markdown",
   "metadata": {},
   "source": [
    "Criamos o DataFrame final:"
   ]
  },
  {
   "cell_type": "code",
   "execution_count": 266,
   "metadata": {},
   "outputs": [],
   "source": [
    "dfs = [arrecadacao_df, demografia_df, idhm_df]"
   ]
  },
  {
   "cell_type": "code",
   "execution_count": 267,
   "metadata": {},
   "outputs": [],
   "source": [
    "data_df = reduce(lambda left, right: pd.merge(left, right, on=\"municipio\"), dfs)"
   ]
  },
  {
   "cell_type": "code",
   "execution_count": 268,
   "metadata": {},
   "outputs": [
    {
     "data": {
      "text/html": [
       "<div>\n",
       "<style scoped>\n",
       "    .dataframe tbody tr th:only-of-type {\n",
       "        vertical-align: middle;\n",
       "    }\n",
       "\n",
       "    .dataframe tbody tr th {\n",
       "        vertical-align: top;\n",
       "    }\n",
       "\n",
       "    .dataframe thead th {\n",
       "        text-align: right;\n",
       "    }\n",
       "</style>\n",
       "<table border=\"1\" class=\"dataframe\">\n",
       "  <thead>\n",
       "    <tr style=\"text-align: right;\">\n",
       "      <th></th>\n",
       "      <th>municipio</th>\n",
       "      <th>arrecadacao</th>\n",
       "      <th>habitantes</th>\n",
       "      <th>idhm</th>\n",
       "    </tr>\n",
       "  </thead>\n",
       "  <tbody>\n",
       "    <tr>\n",
       "      <th>0</th>\n",
       "      <td>Adamantina</td>\n",
       "      <td>1.668520e+08</td>\n",
       "      <td>33797.0</td>\n",
       "      <td>0.790</td>\n",
       "    </tr>\n",
       "    <tr>\n",
       "      <th>1</th>\n",
       "      <td>Adolfo</td>\n",
       "      <td>2.581124e+07</td>\n",
       "      <td>3557.0</td>\n",
       "      <td>0.730</td>\n",
       "    </tr>\n",
       "    <tr>\n",
       "      <th>2</th>\n",
       "      <td>Aguaí</td>\n",
       "      <td>8.606935e+07</td>\n",
       "      <td>32148.0</td>\n",
       "      <td>0.715</td>\n",
       "    </tr>\n",
       "    <tr>\n",
       "      <th>3</th>\n",
       "      <td>Agudos</td>\n",
       "      <td>1.493109e+08</td>\n",
       "      <td>34524.0</td>\n",
       "      <td>0.745</td>\n",
       "    </tr>\n",
       "    <tr>\n",
       "      <th>4</th>\n",
       "      <td>Alambari</td>\n",
       "      <td>2.307959e+07</td>\n",
       "      <td>4884.0</td>\n",
       "      <td>0.712</td>\n",
       "    </tr>\n",
       "  </tbody>\n",
       "</table>\n",
       "</div>"
      ],
      "text/plain": [
       "    municipio   arrecadacao  habitantes   idhm\n",
       "0  Adamantina  1.668520e+08     33797.0  0.790\n",
       "1      Adolfo  2.581124e+07      3557.0  0.730\n",
       "2       Aguaí  8.606935e+07     32148.0  0.715\n",
       "3      Agudos  1.493109e+08     34524.0  0.745\n",
       "4    Alambari  2.307959e+07      4884.0  0.712"
      ]
     },
     "execution_count": 268,
     "metadata": {},
     "output_type": "execute_result"
    }
   ],
   "source": [
    "data_df.head()"
   ]
  },
  {
   "cell_type": "code",
   "execution_count": 269,
   "metadata": {},
   "outputs": [
    {
     "data": {
      "text/plain": [
       "644"
      ]
     },
     "execution_count": 269,
     "metadata": {},
     "output_type": "execute_result"
    }
   ],
   "source": [
    "len(data_df)"
   ]
  },
  {
   "cell_type": "markdown",
   "metadata": {},
   "source": [
    "## Dump da base de dados agregada para clusterização"
   ]
  },
  {
   "cell_type": "code",
   "execution_count": 270,
   "metadata": {},
   "outputs": [],
   "source": [
    "data_df.to_csv(\"../data/generated/cluster_parameters.csv\", encoding=\"windows-1254\")"
   ]
  },
  {
   "cell_type": "markdown",
   "metadata": {},
   "source": [
    " "
   ]
  },
  {
   "cell_type": "markdown",
   "metadata": {},
   "source": [
    "# Passo 2: Clusterização"
   ]
  },
  {
   "cell_type": "code",
   "execution_count": 295,
   "metadata": {},
   "outputs": [],
   "source": [
    "from scipy.cluster.vq import whiten\n",
    "from scipy.cluster.hierarchy import fcluster, linkage, dendrogram\n",
    "import seaborn as sns"
   ]
  },
  {
   "cell_type": "code",
   "execution_count": 274,
   "metadata": {},
   "outputs": [],
   "source": [
    "try:\n",
    "    cluster_df = data_df.copy()\n",
    "except Exception:\n",
    "    cluster_df = pd.read_csv(\"../data/generated/cluster_parameters.csv\", encoding=\"windows-1254\")"
   ]
  },
  {
   "cell_type": "code",
   "execution_count": 284,
   "metadata": {},
   "outputs": [],
   "source": [
    "cluster_df[\"scaled_arrecadacao\"] = pd.Series(whiten(list(cluster_df[\"arrecadacao\"])))"
   ]
  },
  {
   "cell_type": "code",
   "execution_count": 285,
   "metadata": {},
   "outputs": [],
   "source": [
    "cluster_df[\"scaled_habitantes\"] = pd.Series(whiten(list(cluster_df[\"habitantes\"])))"
   ]
  },
  {
   "cell_type": "code",
   "execution_count": 286,
   "metadata": {},
   "outputs": [],
   "source": [
    "cluster_df[\"scaled_idhm\"] = pd.Series(whiten(list(cluster_df[\"idhm\"])))"
   ]
  },
  {
   "cell_type": "code",
   "execution_count": 294,
   "metadata": {},
   "outputs": [],
   "source": [
    "distance_matrix = linkage(\n",
    "    cluster_df[[\"scaled_arrecadacao\", \"scaled_habitantes\", \"scaled_idhm\"]],\n",
    "    method=\"complete\",\n",
    "    metric=\"euclidean\",\n",
    ")"
   ]
  },
  {
   "cell_type": "markdown",
   "metadata": {},
   "source": [
    "Fazemos o dendrograma para estimar um número ótimo de clusters:"
   ]
  },
  {
   "cell_type": "code",
   "execution_count": 296,
   "metadata": {},
   "outputs": [
    {
     "data": {
      "image/png": "[encoded data removed]",
      "text/plain": [
       "<Figure size 432x288 with 1 Axes>"
      ]
     },
     "metadata": {
      "needs_background": "light"
     },
     "output_type": "display_data"
    }
   ],
   "source": [
    "dn = dendrogram(distance_matrix)"
   ]
  },
  {
   "cell_type": "markdown",
   "metadata": {},
   "source": [
    "Vemos que um bom número de clusters é 7"
   ]
  },
  {
   "cell_type": "code",
   "execution_count": 297,
   "metadata": {},
   "outputs": [],
   "source": [
    "cluster_df[\"cluster_labels\"] = fcluster(distance_matrix, 7, criterion=\"maxclust\")"
   ]
  },
  {
   "cell_type": "markdown",
   "metadata": {},
   "source": [
    "Observando a lista de cidades em cada cluster, vemos que o agrupamento está condizente com o que sabemos intuitivamente sobre as cidades. Utilizaremos essas referências para calcular modelos no nosso Dashboard."
   ]
  },
  {
   "cell_type": "code",
   "execution_count": 311,
   "metadata": {},
   "outputs": [],
   "source": [
    "cluster_reference = cluster_df[[\"municipio\", \"cluster_labels\"]]"
   ]
  },
  {
   "cell_type": "markdown",
   "metadata": {},
   "source": [
    "## Dump da base de dados agregada para clusterização"
   ]
  },
  {
   "cell_type": "code",
   "execution_count": 312,
   "metadata": {},
   "outputs": [],
   "source": [
    "cluster_reference.to_csv(\"../data/generated/clusterized_cities.csv\", encoding=\"windows-1254\")"
   ]
  }
 ],
 "metadata": {
  "kernelspec": {
   "display_name": "Python 3",
   "language": "python",
   "name": "python3"
  },
  "language_info": {
   "codemirror_mode": {
    "name": "ipython",
    "version": 3
   },
   "file_extension": ".py",
   "mimetype": "text/x-python",
   "name": "python",
   "nbconvert_exporter": "python",
   "pygments_lexer": "ipython3",
   "version": "3.6.8"
  }
 },
 "nbformat": 4,
 "nbformat_minor": 2
}
